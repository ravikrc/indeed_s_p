{
 "cells": [
  {
   "cell_type": "code",
   "execution_count": 375,
   "metadata": {},
   "outputs": [],
   "source": [
    "import numpy as np\n",
    "import pandas as pd\n",
    "from bs4 import BeautifulSoup\n",
    "import requests\n",
    "import csv\n",
    "import os\n",
    "# Libraries for analysis anf plotting\n",
    "import numpy as np\n",
    "import pandas as pd\n",
    "import matplotlib.pyplot as plt\n",
    "%matplotlib inline\n",
    "import seaborn as sns\n",
    "plt.style.use('fivethirtyeight')\n",
    "\n",
    "# Libraries for modelling\n",
    "from scipy import stats\n",
    "import statsmodels.api as sm\n",
    "from sklearn import datasets, metrics, linear_model, feature_selection, preprocessing\n",
    "from sklearn.metrics import mean_squared_error, mean_absolute_error, r2_score, confusion_matrix\n",
    "from sklearn.model_selection import cross_val_predict, cross_val_score, train_test_split\n",
    "from sklearn.metrics import classification_report, confusion_matrix, accuracy_score, roc_curve, auc\n",
    "from sklearn.linear_model import LogisticRegression, LogisticRegressionCV\n",
    "from sklearn.feature_extraction.text import CountVectorizer\n",
    "from sklearn.model_selection import GridSearchCV\n",
    "from sklearn.preprocessing import StandardScaler"
   ]
  },
  {
   "cell_type": "markdown",
   "metadata": {},
   "source": [
    "## web scraping"
   ]
  },
  {
   "cell_type": "markdown",
   "metadata": {},
   "source": [
    "In the following code:\n",
    "1.I scraped the data from indeed australia website.\n",
    "2.title, company,location, summary, salary were scraped.\n",
    "3.datascientist,dataanalyst,dataengineer,keywords were used while scraping for both sydney and melbourne locations.\n",
    "4.I followed a sequence of\n",
    "meldatascientist,syddatascientist,meldataanalyst,syddataanalyst,meldataengineer,syddataengineer\n",
    "and used same above words in with open('   '),file_is_empty('') lines of code.\n",
    "\n"
   ]
  },
  {
   "cell_type": "code",
   "execution_count": null,
   "metadata": {},
   "outputs": [],
   "source": [
    "pages =list(np.arange(10,940,10))\n",
    "with open('../Documents/indeed/syddataengineer.csv','a',newline='') as f_output:\n",
    "    csv_print=csv.writer(f_output)\n",
    "    file_is_empty=os.stat('../Documents/indeed/syddataengineer.csv').st_size == 0\n",
    "    if file_is_empty:\n",
    "        csv_print.writerow(['title','company','location','summary','salary'])\n",
    "    for page in pages:\n",
    "        source=requests.get('https://au.indeed.com/jobs?q=data+engineer&l=Sydney+NSW&start={}'.format(page)).text\n",
    "        soup=BeautifulSoup(source,'lxml')\n",
    "        for jobs in soup.find_all(class_='result'):\n",
    "                try:\n",
    "                    title=jobs.a.text.strip()\n",
    "                except Exception as e:\n",
    "                    title=None\n",
    "                print('job_title: ',title)\n",
    "                try:\n",
    "                    company=jobs.span.text.strip()\n",
    "                except Exception as e:\n",
    "                    company=None\n",
    "                print('company: ',company)\n",
    "                try:\n",
    "                    location=jobs.find('div',class_='location').text.strip()\n",
    "                except Exception as e:\n",
    "                    location=None\n",
    "                print('location:',location)\n",
    "                try:\n",
    "                    summary=jobs.find('span',class_='summary').text.strip()\n",
    "                except Exceptiona as e:\n",
    "                    summary=None\n",
    "                print(summary)\n",
    "                try:\n",
    "                    salary=jobs.find('span',class_='salary no-wrap').text.strip()\n",
    "                except Exception as e:\n",
    "                    salary=None\n",
    "                print(salary)\n",
    "                csv_print.writerow([title,company,location,summary,salary])\n",
    "#print('_________________')\n",
    "            "
   ]
  },
  {
   "cell_type": "code",
   "execution_count": null,
   "metadata": {},
   "outputs": [],
   "source": []
  },
  {
   "cell_type": "code",
   "execution_count": null,
   "metadata": {},
   "outputs": [],
   "source": []
  },
  {
   "cell_type": "markdown",
   "metadata": {},
   "source": [
    "## data cleaning"
   ]
  },
  {
   "cell_type": "code",
   "execution_count": 2,
   "metadata": {},
   "outputs": [],
   "source": [
    "#reading the melbourne datascientist file\n",
    "mel_ds= pd.read_csv('meldatascientist.csv')"
   ]
  },
  {
   "cell_type": "code",
   "execution_count": 3,
   "metadata": {},
   "outputs": [
    {
     "data": {
      "text/html": [
       "<div>\n",
       "<style scoped>\n",
       "    .dataframe tbody tr th:only-of-type {\n",
       "        vertical-align: middle;\n",
       "    }\n",
       "\n",
       "    .dataframe tbody tr th {\n",
       "        vertical-align: top;\n",
       "    }\n",
       "\n",
       "    .dataframe thead th {\n",
       "        text-align: right;\n",
       "    }\n",
       "</style>\n",
       "<table border=\"1\" class=\"dataframe\">\n",
       "  <thead>\n",
       "    <tr style=\"text-align: right;\">\n",
       "      <th></th>\n",
       "      <th>title</th>\n",
       "      <th>company</th>\n",
       "      <th>location</th>\n",
       "      <th>summary</th>\n",
       "      <th>salary</th>\n",
       "    </tr>\n",
       "  </thead>\n",
       "  <tbody>\n",
       "    <tr>\n",
       "      <th>0</th>\n",
       "      <td>Senior Data Scientist - Belong</td>\n",
       "      <td>Telstra</td>\n",
       "      <td>Melbourne City Centre VIC</td>\n",
       "      <td>Ability to coach and mentor other data scienti...</td>\n",
       "      <td>NaN</td>\n",
       "    </tr>\n",
       "    <tr>\n",
       "      <th>1</th>\n",
       "      <td>Data Scientist</td>\n",
       "      <td>Cover Genius</td>\n",
       "      <td>Sydney NSW</td>\n",
       "      <td>We’re seeking a senior data scientist to suppo...</td>\n",
       "      <td>NaN</td>\n",
       "    </tr>\n",
       "    <tr>\n",
       "      <th>2</th>\n",
       "      <td>Data Scientist</td>\n",
       "      <td>Teradata</td>\n",
       "      <td>NaN</td>\n",
       "      <td>Data ScientistThe Data Scientist gathers intel...</td>\n",
       "      <td>NaN</td>\n",
       "    </tr>\n",
       "    <tr>\n",
       "      <th>3</th>\n",
       "      <td>Data Scientist</td>\n",
       "      <td>Culture Amp</td>\n",
       "      <td>NaN</td>\n",
       "      <td>Your primary role will be to gather, analyse a...</td>\n",
       "      <td>NaN</td>\n",
       "    </tr>\n",
       "    <tr>\n",
       "      <th>4</th>\n",
       "      <td>Data Scientist</td>\n",
       "      <td>Omnicom Media Group</td>\n",
       "      <td>NaN</td>\n",
       "      <td>As the Data Scientist, you'll play a critical ...</td>\n",
       "      <td>NaN</td>\n",
       "    </tr>\n",
       "  </tbody>\n",
       "</table>\n",
       "</div>"
      ],
      "text/plain": [
       "                            title              company  \\\n",
       "0  Senior Data Scientist - Belong              Telstra   \n",
       "1                  Data Scientist         Cover Genius   \n",
       "2                  Data Scientist             Teradata   \n",
       "3                  Data Scientist          Culture Amp   \n",
       "4                  Data Scientist  Omnicom Media Group   \n",
       "\n",
       "                    location  \\\n",
       "0  Melbourne City Centre VIC   \n",
       "1                 Sydney NSW   \n",
       "2                        NaN   \n",
       "3                        NaN   \n",
       "4                        NaN   \n",
       "\n",
       "                                             summary salary  \n",
       "0  Ability to coach and mentor other data scienti...    NaN  \n",
       "1  We’re seeking a senior data scientist to suppo...    NaN  \n",
       "2  Data ScientistThe Data Scientist gathers intel...    NaN  \n",
       "3  Your primary role will be to gather, analyse a...    NaN  \n",
       "4  As the Data Scientist, you'll play a critical ...    NaN  "
      ]
     },
     "execution_count": 3,
     "metadata": {},
     "output_type": "execute_result"
    }
   ],
   "source": [
    "mel_ds.head()"
   ]
  },
  {
   "cell_type": "code",
   "execution_count": 5,
   "metadata": {},
   "outputs": [
    {
     "data": {
      "text/plain": [
       "(183, 5)"
      ]
     },
     "execution_count": 5,
     "metadata": {},
     "output_type": "execute_result"
    }
   ],
   "source": [
    "mel_ds.shape"
   ]
  },
  {
   "cell_type": "code",
   "execution_count": 7,
   "metadata": {},
   "outputs": [],
   "source": [
    "mel_ds['location'] = 'melbourne'"
   ]
  },
  {
   "cell_type": "code",
   "execution_count": 8,
   "metadata": {},
   "outputs": [
    {
     "data": {
      "text/html": [
       "<div>\n",
       "<style scoped>\n",
       "    .dataframe tbody tr th:only-of-type {\n",
       "        vertical-align: middle;\n",
       "    }\n",
       "\n",
       "    .dataframe tbody tr th {\n",
       "        vertical-align: top;\n",
       "    }\n",
       "\n",
       "    .dataframe thead th {\n",
       "        text-align: right;\n",
       "    }\n",
       "</style>\n",
       "<table border=\"1\" class=\"dataframe\">\n",
       "  <thead>\n",
       "    <tr style=\"text-align: right;\">\n",
       "      <th></th>\n",
       "      <th>title</th>\n",
       "      <th>company</th>\n",
       "      <th>location</th>\n",
       "      <th>summary</th>\n",
       "      <th>salary</th>\n",
       "    </tr>\n",
       "  </thead>\n",
       "  <tbody>\n",
       "    <tr>\n",
       "      <th>0</th>\n",
       "      <td>Senior Data Scientist - Belong</td>\n",
       "      <td>Telstra</td>\n",
       "      <td>melbourne</td>\n",
       "      <td>Ability to coach and mentor other data scienti...</td>\n",
       "      <td>NaN</td>\n",
       "    </tr>\n",
       "    <tr>\n",
       "      <th>1</th>\n",
       "      <td>Data Scientist</td>\n",
       "      <td>Cover Genius</td>\n",
       "      <td>melbourne</td>\n",
       "      <td>We’re seeking a senior data scientist to suppo...</td>\n",
       "      <td>NaN</td>\n",
       "    </tr>\n",
       "    <tr>\n",
       "      <th>2</th>\n",
       "      <td>Data Scientist</td>\n",
       "      <td>Teradata</td>\n",
       "      <td>melbourne</td>\n",
       "      <td>Data ScientistThe Data Scientist gathers intel...</td>\n",
       "      <td>NaN</td>\n",
       "    </tr>\n",
       "    <tr>\n",
       "      <th>3</th>\n",
       "      <td>Data Scientist</td>\n",
       "      <td>Culture Amp</td>\n",
       "      <td>melbourne</td>\n",
       "      <td>Your primary role will be to gather, analyse a...</td>\n",
       "      <td>NaN</td>\n",
       "    </tr>\n",
       "    <tr>\n",
       "      <th>4</th>\n",
       "      <td>Data Scientist</td>\n",
       "      <td>Omnicom Media Group</td>\n",
       "      <td>melbourne</td>\n",
       "      <td>As the Data Scientist, you'll play a critical ...</td>\n",
       "      <td>NaN</td>\n",
       "    </tr>\n",
       "  </tbody>\n",
       "</table>\n",
       "</div>"
      ],
      "text/plain": [
       "                            title              company   location  \\\n",
       "0  Senior Data Scientist - Belong              Telstra  melbourne   \n",
       "1                  Data Scientist         Cover Genius  melbourne   \n",
       "2                  Data Scientist             Teradata  melbourne   \n",
       "3                  Data Scientist          Culture Amp  melbourne   \n",
       "4                  Data Scientist  Omnicom Media Group  melbourne   \n",
       "\n",
       "                                             summary salary  \n",
       "0  Ability to coach and mentor other data scienti...    NaN  \n",
       "1  We’re seeking a senior data scientist to suppo...    NaN  \n",
       "2  Data ScientistThe Data Scientist gathers intel...    NaN  \n",
       "3  Your primary role will be to gather, analyse a...    NaN  \n",
       "4  As the Data Scientist, you'll play a critical ...    NaN  "
      ]
     },
     "execution_count": 8,
     "metadata": {},
     "output_type": "execute_result"
    }
   ],
   "source": [
    "mel_ds.head()"
   ]
  },
  {
   "cell_type": "code",
   "execution_count": 9,
   "metadata": {},
   "outputs": [],
   "source": [
    "#reading the sydney datascientist file\n",
    "syd_ds = pd.read_csv('syddatascientist.csv')"
   ]
  },
  {
   "cell_type": "code",
   "execution_count": 10,
   "metadata": {},
   "outputs": [],
   "source": [
    "syd_ds['location'] = 'sydney'"
   ]
  },
  {
   "cell_type": "code",
   "execution_count": 11,
   "metadata": {},
   "outputs": [
    {
     "data": {
      "text/html": [
       "<div>\n",
       "<style scoped>\n",
       "    .dataframe tbody tr th:only-of-type {\n",
       "        vertical-align: middle;\n",
       "    }\n",
       "\n",
       "    .dataframe tbody tr th {\n",
       "        vertical-align: top;\n",
       "    }\n",
       "\n",
       "    .dataframe thead th {\n",
       "        text-align: right;\n",
       "    }\n",
       "</style>\n",
       "<table border=\"1\" class=\"dataframe\">\n",
       "  <thead>\n",
       "    <tr style=\"text-align: right;\">\n",
       "      <th></th>\n",
       "      <th>title</th>\n",
       "      <th>company</th>\n",
       "      <th>location</th>\n",
       "      <th>summary</th>\n",
       "      <th>salary</th>\n",
       "    </tr>\n",
       "  </thead>\n",
       "  <tbody>\n",
       "    <tr>\n",
       "      <th>0</th>\n",
       "      <td>Environmental Scientist - Boutique Environment...</td>\n",
       "      <td>Ascension Global</td>\n",
       "      <td>sydney</td>\n",
       "      <td>*About your new Company: * This national envir...</td>\n",
       "      <td>$70,000 - $110,000 a year</td>\n",
       "    </tr>\n",
       "    <tr>\n",
       "      <th>1</th>\n",
       "      <td>Data CoE Expressions of Interest</td>\n",
       "      <td>Optus</td>\n",
       "      <td>sydney</td>\n",
       "      <td>In this newly created team, our Data Centre of...</td>\n",
       "      <td>NaN</td>\n",
       "    </tr>\n",
       "    <tr>\n",
       "      <th>2</th>\n",
       "      <td>Digital Data Quality Officer</td>\n",
       "      <td>Domain Group</td>\n",
       "      <td>sydney</td>\n",
       "      <td>Have the opportunity to work with a highly tal...</td>\n",
       "      <td>NaN</td>\n",
       "    </tr>\n",
       "    <tr>\n",
       "      <th>3</th>\n",
       "      <td>Data Scientist</td>\n",
       "      <td>Freshwater Group</td>\n",
       "      <td>sydney</td>\n",
       "      <td>The Data Scientist will:. Manage data sets. A ...</td>\n",
       "      <td>NaN</td>\n",
       "    </tr>\n",
       "    <tr>\n",
       "      <th>4</th>\n",
       "      <td>Data Scientist - Australian Market Leader</td>\n",
       "      <td>Datasii</td>\n",
       "      <td>sydney</td>\n",
       "      <td>Due to continued growth in the Data Science te...</td>\n",
       "      <td>$120,000 - $135,000 a year</td>\n",
       "    </tr>\n",
       "  </tbody>\n",
       "</table>\n",
       "</div>"
      ],
      "text/plain": [
       "                                               title           company  \\\n",
       "0  Environmental Scientist - Boutique Environment...  Ascension Global   \n",
       "1                   Data CoE Expressions of Interest             Optus   \n",
       "2                       Digital Data Quality Officer      Domain Group   \n",
       "3                                     Data Scientist  Freshwater Group   \n",
       "4          Data Scientist - Australian Market Leader           Datasii   \n",
       "\n",
       "  location                                            summary  \\\n",
       "0   sydney  *About your new Company: * This national envir...   \n",
       "1   sydney  In this newly created team, our Data Centre of...   \n",
       "2   sydney  Have the opportunity to work with a highly tal...   \n",
       "3   sydney  The Data Scientist will:. Manage data sets. A ...   \n",
       "4   sydney  Due to continued growth in the Data Science te...   \n",
       "\n",
       "                       salary  \n",
       "0   $70,000 - $110,000 a year  \n",
       "1                         NaN  \n",
       "2                         NaN  \n",
       "3                         NaN  \n",
       "4  $120,000 - $135,000 a year  "
      ]
     },
     "execution_count": 11,
     "metadata": {},
     "output_type": "execute_result"
    }
   ],
   "source": [
    "syd_ds.head()"
   ]
  },
  {
   "cell_type": "code",
   "execution_count": 12,
   "metadata": {},
   "outputs": [],
   "source": [
    "#reading the melbourne dataanalyst file\n",
    "mel_da = pd.read_csv('meldataanalyst.csv')"
   ]
  },
  {
   "cell_type": "code",
   "execution_count": 13,
   "metadata": {},
   "outputs": [],
   "source": [
    "mel_da['location'] = 'sydney'"
   ]
  },
  {
   "cell_type": "code",
   "execution_count": 14,
   "metadata": {},
   "outputs": [
    {
     "data": {
      "text/html": [
       "<div>\n",
       "<style scoped>\n",
       "    .dataframe tbody tr th:only-of-type {\n",
       "        vertical-align: middle;\n",
       "    }\n",
       "\n",
       "    .dataframe tbody tr th {\n",
       "        vertical-align: top;\n",
       "    }\n",
       "\n",
       "    .dataframe thead th {\n",
       "        text-align: right;\n",
       "    }\n",
       "</style>\n",
       "<table border=\"1\" class=\"dataframe\">\n",
       "  <thead>\n",
       "    <tr style=\"text-align: right;\">\n",
       "      <th></th>\n",
       "      <th>title</th>\n",
       "      <th>company</th>\n",
       "      <th>location</th>\n",
       "      <th>summary</th>\n",
       "      <th>salary</th>\n",
       "    </tr>\n",
       "  </thead>\n",
       "  <tbody>\n",
       "    <tr>\n",
       "      <th>0</th>\n",
       "      <td>Data Analyst</td>\n",
       "      <td>ANZ Banking Group</td>\n",
       "      <td>sydney</td>\n",
       "      <td>Data Analyst - Campaign Developer. The role wi...</td>\n",
       "      <td>NaN</td>\n",
       "    </tr>\n",
       "    <tr>\n",
       "      <th>1</th>\n",
       "      <td>Data Specialist and Scientist</td>\n",
       "      <td>Deakin University</td>\n",
       "      <td>sydney</td>\n",
       "      <td>This role requires an experienced Data Special...</td>\n",
       "      <td>NaN</td>\n",
       "    </tr>\n",
       "    <tr>\n",
       "      <th>2</th>\n",
       "      <td>Analyst - Enterprise Risk Tech Area - x2 Oppor...</td>\n",
       "      <td>ANZ Banking Group</td>\n",
       "      <td>sydney</td>\n",
       "      <td>Experience in data models and reporting packag...</td>\n",
       "      <td>NaN</td>\n",
       "    </tr>\n",
       "    <tr>\n",
       "      <th>3</th>\n",
       "      <td>Data Analyst</td>\n",
       "      <td>Metricon</td>\n",
       "      <td>sydney</td>\n",
       "      <td>Solid experience within a data/business analys...</td>\n",
       "      <td>NaN</td>\n",
       "    </tr>\n",
       "    <tr>\n",
       "      <th>4</th>\n",
       "      <td>Data Analyst</td>\n",
       "      <td>Hendry Group Pty Ltd</td>\n",
       "      <td>sydney</td>\n",
       "      <td>Have experience in building scalable data mode...</td>\n",
       "      <td>NaN</td>\n",
       "    </tr>\n",
       "  </tbody>\n",
       "</table>\n",
       "</div>"
      ],
      "text/plain": [
       "                                               title               company  \\\n",
       "0                                       Data Analyst     ANZ Banking Group   \n",
       "1                      Data Specialist and Scientist     Deakin University   \n",
       "2  Analyst - Enterprise Risk Tech Area - x2 Oppor...     ANZ Banking Group   \n",
       "3                                       Data Analyst              Metricon   \n",
       "4                                       Data Analyst  Hendry Group Pty Ltd   \n",
       "\n",
       "  location                                            summary salary  \n",
       "0   sydney  Data Analyst - Campaign Developer. The role wi...    NaN  \n",
       "1   sydney  This role requires an experienced Data Special...    NaN  \n",
       "2   sydney  Experience in data models and reporting packag...    NaN  \n",
       "3   sydney  Solid experience within a data/business analys...    NaN  \n",
       "4   sydney  Have experience in building scalable data mode...    NaN  "
      ]
     },
     "execution_count": 14,
     "metadata": {},
     "output_type": "execute_result"
    }
   ],
   "source": [
    "mel_da.head()"
   ]
  },
  {
   "cell_type": "code",
   "execution_count": 15,
   "metadata": {},
   "outputs": [],
   "source": [
    "#reading the sydney dataanalyst file\n",
    "syd_da = pd.read_csv('syddataanalyst.csv')"
   ]
  },
  {
   "cell_type": "code",
   "execution_count": 18,
   "metadata": {},
   "outputs": [],
   "source": [
    "syd_da['location'] = 'sydney'"
   ]
  },
  {
   "cell_type": "code",
   "execution_count": 19,
   "metadata": {},
   "outputs": [
    {
     "data": {
      "text/html": [
       "<div>\n",
       "<style scoped>\n",
       "    .dataframe tbody tr th:only-of-type {\n",
       "        vertical-align: middle;\n",
       "    }\n",
       "\n",
       "    .dataframe tbody tr th {\n",
       "        vertical-align: top;\n",
       "    }\n",
       "\n",
       "    .dataframe thead th {\n",
       "        text-align: right;\n",
       "    }\n",
       "</style>\n",
       "<table border=\"1\" class=\"dataframe\">\n",
       "  <thead>\n",
       "    <tr style=\"text-align: right;\">\n",
       "      <th></th>\n",
       "      <th>title</th>\n",
       "      <th>company</th>\n",
       "      <th>location</th>\n",
       "      <th>summary</th>\n",
       "      <th>salary</th>\n",
       "    </tr>\n",
       "  </thead>\n",
       "  <tbody>\n",
       "    <tr>\n",
       "      <th>0</th>\n",
       "      <td>Global Data - Mortgages Analyst - Sydney</td>\n",
       "      <td>Bloomberg</td>\n",
       "      <td>sydney</td>\n",
       "      <td>Mortgages Analyst - Sydney. Our Market Data An...</td>\n",
       "      <td>NaN</td>\n",
       "    </tr>\n",
       "    <tr>\n",
       "      <th>1</th>\n",
       "      <td>Operations Analyst - Marketplace</td>\n",
       "      <td>THE ICONIC</td>\n",
       "      <td>sydney</td>\n",
       "      <td>You have experience in operational process imp...</td>\n",
       "      <td>NaN</td>\n",
       "    </tr>\n",
       "    <tr>\n",
       "      <th>2</th>\n",
       "      <td>Data Analytics Analyst</td>\n",
       "      <td>IQVIA</td>\n",
       "      <td>sydney</td>\n",
       "      <td>Manages health related data, updates and analy...</td>\n",
       "      <td>NaN</td>\n",
       "    </tr>\n",
       "    <tr>\n",
       "      <th>3</th>\n",
       "      <td>Consumer Research &amp; Data Analyst, Sydney</td>\n",
       "      <td>Mintel Group</td>\n",
       "      <td>sydney</td>\n",
       "      <td>Research and data consultancy:. Do you enjoy w...</td>\n",
       "      <td>NaN</td>\n",
       "    </tr>\n",
       "    <tr>\n",
       "      <th>4</th>\n",
       "      <td>Data and Information Analyst</td>\n",
       "      <td>Agency for Clinical Innovation</td>\n",
       "      <td>sydney</td>\n",
       "      <td>Demonstrated high level skills to clean, struc...</td>\n",
       "      <td>$110,961 - $126,496 a year</td>\n",
       "    </tr>\n",
       "  </tbody>\n",
       "</table>\n",
       "</div>"
      ],
      "text/plain": [
       "                                      title                         company  \\\n",
       "0  Global Data - Mortgages Analyst - Sydney                       Bloomberg   \n",
       "1          Operations Analyst - Marketplace                      THE ICONIC   \n",
       "2                    Data Analytics Analyst                           IQVIA   \n",
       "3  Consumer Research & Data Analyst, Sydney                    Mintel Group   \n",
       "4              Data and Information Analyst  Agency for Clinical Innovation   \n",
       "\n",
       "  location                                            summary  \\\n",
       "0   sydney  Mortgages Analyst - Sydney. Our Market Data An...   \n",
       "1   sydney  You have experience in operational process imp...   \n",
       "2   sydney  Manages health related data, updates and analy...   \n",
       "3   sydney  Research and data consultancy:. Do you enjoy w...   \n",
       "4   sydney  Demonstrated high level skills to clean, struc...   \n",
       "\n",
       "                       salary  \n",
       "0                         NaN  \n",
       "1                         NaN  \n",
       "2                         NaN  \n",
       "3                         NaN  \n",
       "4  $110,961 - $126,496 a year  "
      ]
     },
     "execution_count": 19,
     "metadata": {},
     "output_type": "execute_result"
    }
   ],
   "source": [
    "syd_da.head()"
   ]
  },
  {
   "cell_type": "code",
   "execution_count": 20,
   "metadata": {},
   "outputs": [],
   "source": [
    "#reading the melbourne dataengineer file\n",
    "mel_de = pd.read_csv('meldataengineer.csv')"
   ]
  },
  {
   "cell_type": "code",
   "execution_count": 21,
   "metadata": {},
   "outputs": [],
   "source": [
    "mel_de['location'] = 'melbourne'"
   ]
  },
  {
   "cell_type": "code",
   "execution_count": 22,
   "metadata": {},
   "outputs": [
    {
     "data": {
      "text/html": [
       "<div>\n",
       "<style scoped>\n",
       "    .dataframe tbody tr th:only-of-type {\n",
       "        vertical-align: middle;\n",
       "    }\n",
       "\n",
       "    .dataframe tbody tr th {\n",
       "        vertical-align: top;\n",
       "    }\n",
       "\n",
       "    .dataframe thead th {\n",
       "        text-align: right;\n",
       "    }\n",
       "</style>\n",
       "<table border=\"1\" class=\"dataframe\">\n",
       "  <thead>\n",
       "    <tr style=\"text-align: right;\">\n",
       "      <th></th>\n",
       "      <th>title</th>\n",
       "      <th>company</th>\n",
       "      <th>location</th>\n",
       "      <th>summary</th>\n",
       "      <th>salary</th>\n",
       "    </tr>\n",
       "  </thead>\n",
       "  <tbody>\n",
       "    <tr>\n",
       "      <th>0</th>\n",
       "      <td>Engineer</td>\n",
       "      <td>ANZ Banking Group</td>\n",
       "      <td>melbourne</td>\n",
       "      <td>Software Engineer Role. What you bring to the ...</td>\n",
       "      <td>NaN</td>\n",
       "    </tr>\n",
       "    <tr>\n",
       "      <th>1</th>\n",
       "      <td>Data Engineer</td>\n",
       "      <td>NAB - National Australia Bank</td>\n",
       "      <td>melbourne</td>\n",
       "      <td>We are current looking for Data Engineers to p...</td>\n",
       "      <td>NaN</td>\n",
       "    </tr>\n",
       "    <tr>\n",
       "      <th>2</th>\n",
       "      <td>Asset Engineer</td>\n",
       "      <td>Bayside Personnel</td>\n",
       "      <td>melbourne</td>\n",
       "      <td>Define and maintain accurate data of an electr...</td>\n",
       "      <td>NaN</td>\n",
       "    </tr>\n",
       "    <tr>\n",
       "      <th>3</th>\n",
       "      <td>Analytics Data Engineer</td>\n",
       "      <td>Bolster</td>\n",
       "      <td>melbourne</td>\n",
       "      <td>Commercial data engineering experience, buildi...</td>\n",
       "      <td>NaN</td>\n",
       "    </tr>\n",
       "    <tr>\n",
       "      <th>4</th>\n",
       "      <td>Data DevOps Engineer</td>\n",
       "      <td>NAB - National Australia Bank</td>\n",
       "      <td>melbourne</td>\n",
       "      <td>We are looking for a DevOps engineer to build ...</td>\n",
       "      <td>NaN</td>\n",
       "    </tr>\n",
       "  </tbody>\n",
       "</table>\n",
       "</div>"
      ],
      "text/plain": [
       "                     title                        company   location  \\\n",
       "0                 Engineer              ANZ Banking Group  melbourne   \n",
       "1            Data Engineer  NAB - National Australia Bank  melbourne   \n",
       "2           Asset Engineer              Bayside Personnel  melbourne   \n",
       "3  Analytics Data Engineer                        Bolster  melbourne   \n",
       "4     Data DevOps Engineer  NAB - National Australia Bank  melbourne   \n",
       "\n",
       "                                             summary salary  \n",
       "0  Software Engineer Role. What you bring to the ...    NaN  \n",
       "1  We are current looking for Data Engineers to p...    NaN  \n",
       "2  Define and maintain accurate data of an electr...    NaN  \n",
       "3  Commercial data engineering experience, buildi...    NaN  \n",
       "4  We are looking for a DevOps engineer to build ...    NaN  "
      ]
     },
     "execution_count": 22,
     "metadata": {},
     "output_type": "execute_result"
    }
   ],
   "source": [
    "mel_de.head()"
   ]
  },
  {
   "cell_type": "code",
   "execution_count": 23,
   "metadata": {},
   "outputs": [],
   "source": [
    "#reading the sydney datasengineer file\n",
    "syd_de = pd.read_csv('syddataengineer.csv')"
   ]
  },
  {
   "cell_type": "code",
   "execution_count": 24,
   "metadata": {},
   "outputs": [],
   "source": [
    "syd_de['location'] = 'sydney'"
   ]
  },
  {
   "cell_type": "code",
   "execution_count": 25,
   "metadata": {},
   "outputs": [
    {
     "data": {
      "text/html": [
       "<div>\n",
       "<style scoped>\n",
       "    .dataframe tbody tr th:only-of-type {\n",
       "        vertical-align: middle;\n",
       "    }\n",
       "\n",
       "    .dataframe tbody tr th {\n",
       "        vertical-align: top;\n",
       "    }\n",
       "\n",
       "    .dataframe thead th {\n",
       "        text-align: right;\n",
       "    }\n",
       "</style>\n",
       "<table border=\"1\" class=\"dataframe\">\n",
       "  <thead>\n",
       "    <tr style=\"text-align: right;\">\n",
       "      <th></th>\n",
       "      <th>title</th>\n",
       "      <th>company</th>\n",
       "      <th>location</th>\n",
       "      <th>summary</th>\n",
       "      <th>salary</th>\n",
       "    </tr>\n",
       "  </thead>\n",
       "  <tbody>\n",
       "    <tr>\n",
       "      <th>0</th>\n",
       "      <td>Field Service Commissioning Engineer</td>\n",
       "      <td>Addelec Power Services</td>\n",
       "      <td>sydney</td>\n",
       "      <td>Addelec Power Services are a specialised compa...</td>\n",
       "      <td>$45 - $60 an hour</td>\n",
       "    </tr>\n",
       "    <tr>\n",
       "      <th>1</th>\n",
       "      <td>Security Automation Engineer</td>\n",
       "      <td>THE ICONIC</td>\n",
       "      <td>sydney</td>\n",
       "      <td>Engineer, implement, and monitor security syst...</td>\n",
       "      <td>NaN</td>\n",
       "    </tr>\n",
       "    <tr>\n",
       "      <th>2</th>\n",
       "      <td>Full Stack Software Engineer</td>\n",
       "      <td>THE ICONIC</td>\n",
       "      <td>sydney</td>\n",
       "      <td>We love to move fast and validate learning usi...</td>\n",
       "      <td>NaN</td>\n",
       "    </tr>\n",
       "    <tr>\n",
       "      <th>3</th>\n",
       "      <td>Data Engineer</td>\n",
       "      <td>Australian Broadcasting Corporation (ABC)</td>\n",
       "      <td>sydney</td>\n",
       "      <td>Data Engineer PD.pdf. ABC Audiences are seekin...</td>\n",
       "      <td>$120,000 a year</td>\n",
       "    </tr>\n",
       "    <tr>\n",
       "      <th>4</th>\n",
       "      <td>Data Engineer - Internal Analytics</td>\n",
       "      <td>SafetyCulture</td>\n",
       "      <td>sydney</td>\n",
       "      <td>Collaborate closely with data infrastructure e...</td>\n",
       "      <td>NaN</td>\n",
       "    </tr>\n",
       "  </tbody>\n",
       "</table>\n",
       "</div>"
      ],
      "text/plain": [
       "                                  title  \\\n",
       "0  Field Service Commissioning Engineer   \n",
       "1          Security Automation Engineer   \n",
       "2          Full Stack Software Engineer   \n",
       "3                         Data Engineer   \n",
       "4    Data Engineer - Internal Analytics   \n",
       "\n",
       "                                     company location  \\\n",
       "0                     Addelec Power Services   sydney   \n",
       "1                                 THE ICONIC   sydney   \n",
       "2                                 THE ICONIC   sydney   \n",
       "3  Australian Broadcasting Corporation (ABC)   sydney   \n",
       "4                              SafetyCulture   sydney   \n",
       "\n",
       "                                             summary             salary  \n",
       "0  Addelec Power Services are a specialised compa...  $45 - $60 an hour  \n",
       "1  Engineer, implement, and monitor security syst...                NaN  \n",
       "2  We love to move fast and validate learning usi...                NaN  \n",
       "3  Data Engineer PD.pdf. ABC Audiences are seekin...    $120,000 a year  \n",
       "4  Collaborate closely with data infrastructure e...                NaN  "
      ]
     },
     "execution_count": 25,
     "metadata": {},
     "output_type": "execute_result"
    }
   ],
   "source": [
    "syd_de.head()"
   ]
  },
  {
   "cell_type": "markdown",
   "metadata": {},
   "source": [
    "### Data cleaning\n",
    "\n",
    "Only a small proportion of the scraped data will have salary information and it is only this data I will need for modelling. The salary information is represented in several timescales, yearly, monthly, weekly and hourly. Some of the information is also represented as a range.\n",
    "\n",
    "I will perform the following to extract and clean the salary data:\n",
    "\n",
    "- Remove duplicate entries\n",
    "- Delete rows that are missing data\n",
    "- Only select salary information relating to year, month or week\n",
    "- Convert salary information to a float (if in a range I will calculate the mean)\n",
    "    - Round up monthly and weekly salaries to yearly (not the most accurate but is needed to maintain a workable amount of data for the modelling\n"
   ]
  },
  {
   "cell_type": "code",
   "execution_count": 372,
   "metadata": {},
   "outputs": [],
   "source": [
    "#combined all the dataframes that were scraped individually based on locations and keywords and combined them all\n",
    "df_full = pd.concat([mel_ds,syd_ds,mel_da,syd_da,mel_de,syd_de])"
   ]
  },
  {
   "cell_type": "code",
   "execution_count": 373,
   "metadata": {},
   "outputs": [
    {
     "data": {
      "text/html": [
       "<div>\n",
       "<style scoped>\n",
       "    .dataframe tbody tr th:only-of-type {\n",
       "        vertical-align: middle;\n",
       "    }\n",
       "\n",
       "    .dataframe tbody tr th {\n",
       "        vertical-align: top;\n",
       "    }\n",
       "\n",
       "    .dataframe thead th {\n",
       "        text-align: right;\n",
       "    }\n",
       "</style>\n",
       "<table border=\"1\" class=\"dataframe\">\n",
       "  <thead>\n",
       "    <tr style=\"text-align: right;\">\n",
       "      <th></th>\n",
       "      <th>title</th>\n",
       "      <th>company</th>\n",
       "      <th>location</th>\n",
       "      <th>summary</th>\n",
       "      <th>salary</th>\n",
       "    </tr>\n",
       "  </thead>\n",
       "  <tbody>\n",
       "    <tr>\n",
       "      <th>0</th>\n",
       "      <td>Senior Data Scientist - Belong</td>\n",
       "      <td>Telstra</td>\n",
       "      <td>melbourne</td>\n",
       "      <td>Ability to coach and mentor other data scienti...</td>\n",
       "      <td>NaN</td>\n",
       "    </tr>\n",
       "    <tr>\n",
       "      <th>1</th>\n",
       "      <td>Data Scientist</td>\n",
       "      <td>Cover Genius</td>\n",
       "      <td>melbourne</td>\n",
       "      <td>We’re seeking a senior data scientist to suppo...</td>\n",
       "      <td>NaN</td>\n",
       "    </tr>\n",
       "    <tr>\n",
       "      <th>2</th>\n",
       "      <td>Data Scientist</td>\n",
       "      <td>Teradata</td>\n",
       "      <td>melbourne</td>\n",
       "      <td>Data ScientistThe Data Scientist gathers intel...</td>\n",
       "      <td>NaN</td>\n",
       "    </tr>\n",
       "    <tr>\n",
       "      <th>3</th>\n",
       "      <td>Data Scientist</td>\n",
       "      <td>Culture Amp</td>\n",
       "      <td>melbourne</td>\n",
       "      <td>Your primary role will be to gather, analyse a...</td>\n",
       "      <td>NaN</td>\n",
       "    </tr>\n",
       "    <tr>\n",
       "      <th>4</th>\n",
       "      <td>Data Scientist</td>\n",
       "      <td>Omnicom Media Group</td>\n",
       "      <td>melbourne</td>\n",
       "      <td>As the Data Scientist, you'll play a critical ...</td>\n",
       "      <td>NaN</td>\n",
       "    </tr>\n",
       "  </tbody>\n",
       "</table>\n",
       "</div>"
      ],
      "text/plain": [
       "                            title              company   location  \\\n",
       "0  Senior Data Scientist - Belong              Telstra  melbourne   \n",
       "1                  Data Scientist         Cover Genius  melbourne   \n",
       "2                  Data Scientist             Teradata  melbourne   \n",
       "3                  Data Scientist          Culture Amp  melbourne   \n",
       "4                  Data Scientist  Omnicom Media Group  melbourne   \n",
       "\n",
       "                                             summary salary  \n",
       "0  Ability to coach and mentor other data scienti...    NaN  \n",
       "1  We’re seeking a senior data scientist to suppo...    NaN  \n",
       "2  Data ScientistThe Data Scientist gathers intel...    NaN  \n",
       "3  Your primary role will be to gather, analyse a...    NaN  \n",
       "4  As the Data Scientist, you'll play a critical ...    NaN  "
      ]
     },
     "execution_count": 373,
     "metadata": {},
     "output_type": "execute_result"
    }
   ],
   "source": [
    "df_full.head()"
   ]
  },
  {
   "cell_type": "code",
   "execution_count": 28,
   "metadata": {},
   "outputs": [
    {
     "data": {
      "text/plain": [
       "(5729, 5)"
      ]
     },
     "execution_count": 28,
     "metadata": {},
     "output_type": "execute_result"
    }
   ],
   "source": [
    "df_full.shape"
   ]
  },
  {
   "cell_type": "code",
   "execution_count": 29,
   "metadata": {},
   "outputs": [],
   "source": [
    "df_full = df_full.drop_duplicates()"
   ]
  },
  {
   "cell_type": "code",
   "execution_count": 30,
   "metadata": {},
   "outputs": [
    {
     "data": {
      "text/plain": [
       "(2698, 5)"
      ]
     },
     "execution_count": 30,
     "metadata": {},
     "output_type": "execute_result"
    }
   ],
   "source": [
    "df_full.shape"
   ]
  },
  {
   "cell_type": "code",
   "execution_count": 374,
   "metadata": {},
   "outputs": [],
   "source": [
    "#checking only title's containing data , DATA, Data, Machine\n",
    "df_data = df_full.loc[df_full.title.str.contains(\"data\") | df_full.title.str.contains(\"Data\") | \n",
    "            df_full.title.str.contains(\"DATA\")|df_full.title.str.contains(\"Machine\")]"
   ]
  },
  {
   "cell_type": "code",
   "execution_count": 33,
   "metadata": {},
   "outputs": [
    {
     "data": {
      "text/plain": [
       "(614, 5)"
      ]
     },
     "execution_count": 33,
     "metadata": {},
     "output_type": "execute_result"
    }
   ],
   "source": [
    "df_data.shape"
   ]
  },
  {
   "cell_type": "code",
   "execution_count": 36,
   "metadata": {},
   "outputs": [
    {
     "data": {
      "text/html": [
       "<div>\n",
       "<style scoped>\n",
       "    .dataframe tbody tr th:only-of-type {\n",
       "        vertical-align: middle;\n",
       "    }\n",
       "\n",
       "    .dataframe tbody tr th {\n",
       "        vertical-align: top;\n",
       "    }\n",
       "\n",
       "    .dataframe thead th {\n",
       "        text-align: right;\n",
       "    }\n",
       "</style>\n",
       "<table border=\"1\" class=\"dataframe\">\n",
       "  <thead>\n",
       "    <tr style=\"text-align: right;\">\n",
       "      <th></th>\n",
       "      <th>title</th>\n",
       "      <th>company</th>\n",
       "      <th>location</th>\n",
       "      <th>summary</th>\n",
       "      <th>salary</th>\n",
       "    </tr>\n",
       "  </thead>\n",
       "  <tbody>\n",
       "    <tr>\n",
       "      <th>0</th>\n",
       "      <td>Senior Data Scientist - Belong</td>\n",
       "      <td>Telstra</td>\n",
       "      <td>melbourne</td>\n",
       "      <td>Ability to coach and mentor other data scienti...</td>\n",
       "      <td>NaN</td>\n",
       "    </tr>\n",
       "    <tr>\n",
       "      <th>1</th>\n",
       "      <td>Data Scientist</td>\n",
       "      <td>Cover Genius</td>\n",
       "      <td>melbourne</td>\n",
       "      <td>We’re seeking a senior data scientist to suppo...</td>\n",
       "      <td>NaN</td>\n",
       "    </tr>\n",
       "    <tr>\n",
       "      <th>2</th>\n",
       "      <td>Data Scientist</td>\n",
       "      <td>Teradata</td>\n",
       "      <td>melbourne</td>\n",
       "      <td>Data ScientistThe Data Scientist gathers intel...</td>\n",
       "      <td>NaN</td>\n",
       "    </tr>\n",
       "    <tr>\n",
       "      <th>3</th>\n",
       "      <td>Data Scientist</td>\n",
       "      <td>Culture Amp</td>\n",
       "      <td>melbourne</td>\n",
       "      <td>Your primary role will be to gather, analyse a...</td>\n",
       "      <td>NaN</td>\n",
       "    </tr>\n",
       "    <tr>\n",
       "      <th>4</th>\n",
       "      <td>Data Scientist</td>\n",
       "      <td>Omnicom Media Group</td>\n",
       "      <td>melbourne</td>\n",
       "      <td>As the Data Scientist, you'll play a critical ...</td>\n",
       "      <td>NaN</td>\n",
       "    </tr>\n",
       "    <tr>\n",
       "      <th>5</th>\n",
       "      <td>Data Scientist - Sydney</td>\n",
       "      <td>Australian Red Cross</td>\n",
       "      <td>melbourne</td>\n",
       "      <td>Strong business data acumen with the ability t...</td>\n",
       "      <td>NaN</td>\n",
       "    </tr>\n",
       "    <tr>\n",
       "      <th>6</th>\n",
       "      <td>Data Scientist</td>\n",
       "      <td>THE ICONIC</td>\n",
       "      <td>melbourne</td>\n",
       "      <td>We are looking for an experienced Data Scienti...</td>\n",
       "      <td>NaN</td>\n",
       "    </tr>\n",
       "    <tr>\n",
       "      <th>7</th>\n",
       "      <td>Data Scientist</td>\n",
       "      <td>Tigerspike</td>\n",
       "      <td>melbourne</td>\n",
       "      <td>The successful candidate will be a Data Scient...</td>\n",
       "      <td>NaN</td>\n",
       "    </tr>\n",
       "    <tr>\n",
       "      <th>8</th>\n",
       "      <td>Data Scientist</td>\n",
       "      <td>Hyper Anna</td>\n",
       "      <td>melbourne</td>\n",
       "      <td>This is a client-facing role and you'll be the...</td>\n",
       "      <td>NaN</td>\n",
       "    </tr>\n",
       "    <tr>\n",
       "      <th>9</th>\n",
       "      <td>Senior Data Scientist</td>\n",
       "      <td>Algorithmic Trading Strategies Pty Ltd</td>\n",
       "      <td>melbourne</td>\n",
       "      <td>We are looking for an experienced Data Scienti...</td>\n",
       "      <td>$180,000 - $200,000 a year</td>\n",
       "    </tr>\n",
       "    <tr>\n",
       "      <th>10</th>\n",
       "      <td>Data Scientist</td>\n",
       "      <td>Freelancer.com</td>\n",
       "      <td>melbourne</td>\n",
       "      <td>Proven experience as a data scientist or analy...</td>\n",
       "      <td>$65,000 - $110,000 a year</td>\n",
       "    </tr>\n",
       "    <tr>\n",
       "      <th>11</th>\n",
       "      <td>Business Intelligence Analyst/Data Scientist G...</td>\n",
       "      <td>Cisco Careers</td>\n",
       "      <td>melbourne</td>\n",
       "      <td>Graduate Business Intelligence Analyst / Data ...</td>\n",
       "      <td>NaN</td>\n",
       "    </tr>\n",
       "    <tr>\n",
       "      <th>12</th>\n",
       "      <td>Freelance Data Scientist</td>\n",
       "      <td>mOOvement</td>\n",
       "      <td>melbourne</td>\n",
       "      <td>Empowering cattle producers with real-time dat...</td>\n",
       "      <td>$90,000 - $110,000 a year</td>\n",
       "    </tr>\n",
       "    <tr>\n",
       "      <th>13</th>\n",
       "      <td>Financial Crime Data Scientist</td>\n",
       "      <td>ANZ Banking Group</td>\n",
       "      <td>melbourne</td>\n",
       "      <td>Data test automation capabilities. The Financi...</td>\n",
       "      <td>NaN</td>\n",
       "    </tr>\n",
       "    <tr>\n",
       "      <th>14</th>\n",
       "      <td>Data Engineer</td>\n",
       "      <td>Deakin University</td>\n",
       "      <td>melbourne</td>\n",
       "      <td>Your responsibilities include developing, impl...</td>\n",
       "      <td>NaN</td>\n",
       "    </tr>\n",
       "    <tr>\n",
       "      <th>15</th>\n",
       "      <td>Data Specialist and Scientist</td>\n",
       "      <td>Deakin University</td>\n",
       "      <td>melbourne</td>\n",
       "      <td>This role requires an experienced Data Special...</td>\n",
       "      <td>NaN</td>\n",
       "    </tr>\n",
       "    <tr>\n",
       "      <th>22</th>\n",
       "      <td>Data Scientist - Solution 49x</td>\n",
       "      <td>KPMG</td>\n",
       "      <td>melbourne</td>\n",
       "      <td>As a Data Scientist in our team, you will:. As...</td>\n",
       "      <td>NaN</td>\n",
       "    </tr>\n",
       "    <tr>\n",
       "      <th>23</th>\n",
       "      <td>Data Scientist/ Engineer</td>\n",
       "      <td>Quantexa</td>\n",
       "      <td>melbourne</td>\n",
       "      <td>Work very closely with data scientists to ensu...</td>\n",
       "      <td>$71,000 - $94,000 a year</td>\n",
       "    </tr>\n",
       "    <tr>\n",
       "      <th>24</th>\n",
       "      <td>Senior Data Scientist</td>\n",
       "      <td>AWS Australia Pty Ltd</td>\n",
       "      <td>melbourne</td>\n",
       "      <td>Our Data Scientists can live in any location w...</td>\n",
       "      <td>NaN</td>\n",
       "    </tr>\n",
       "    <tr>\n",
       "      <th>28</th>\n",
       "      <td>Data Scientist</td>\n",
       "      <td>Australian Securities Exchange (ASX)</td>\n",
       "      <td>melbourne</td>\n",
       "      <td> Gained a good level of knowledge and experie...</td>\n",
       "      <td>NaN</td>\n",
       "    </tr>\n",
       "    <tr>\n",
       "      <th>29</th>\n",
       "      <td>Data Analyst Graduate</td>\n",
       "      <td>Reece Group</td>\n",
       "      <td>melbourne</td>\n",
       "      <td>Data Analyst Graduate. The Graduate Data Analy...</td>\n",
       "      <td>NaN</td>\n",
       "    </tr>\n",
       "    <tr>\n",
       "      <th>30</th>\n",
       "      <td>Data Science Opportunities</td>\n",
       "      <td>KPMG</td>\n",
       "      <td>melbourne</td>\n",
       "      <td>Our team is seeking data scientists to support...</td>\n",
       "      <td>NaN</td>\n",
       "    </tr>\n",
       "    <tr>\n",
       "      <th>35</th>\n",
       "      <td>Consultant, Data Scientist</td>\n",
       "      <td>NAB - National Australia Bank</td>\n",
       "      <td>melbourne</td>\n",
       "      <td>Reporting to the Manager, Delivery Analytics E...</td>\n",
       "      <td>NaN</td>\n",
       "    </tr>\n",
       "    <tr>\n",
       "      <th>39</th>\n",
       "      <td>Data Scientist</td>\n",
       "      <td>Munich Re</td>\n",
       "      <td>melbourne</td>\n",
       "      <td>Data Analytics and Modelling. Identifies what ...</td>\n",
       "      <td>NaN</td>\n",
       "    </tr>\n",
       "    <tr>\n",
       "      <th>42</th>\n",
       "      <td>Data Scientist (Maintenance Support)</td>\n",
       "      <td>UGL Limited</td>\n",
       "      <td>melbourne</td>\n",
       "      <td>Data Scientist (Maintenance Support)-235255. A...</td>\n",
       "      <td>NaN</td>\n",
       "    </tr>\n",
       "    <tr>\n",
       "      <th>47</th>\n",
       "      <td>Data Scientist - Australian Market Leader</td>\n",
       "      <td>Datasii</td>\n",
       "      <td>melbourne</td>\n",
       "      <td>Due to continued growth in the Data Science te...</td>\n",
       "      <td>$120,000 - $135,000 a year</td>\n",
       "    </tr>\n",
       "    <tr>\n",
       "      <th>48</th>\n",
       "      <td>Data Scientist</td>\n",
       "      <td>Freshwater Group</td>\n",
       "      <td>melbourne</td>\n",
       "      <td>The Data Scientist will:. Manage data sets. A ...</td>\n",
       "      <td>NaN</td>\n",
       "    </tr>\n",
       "    <tr>\n",
       "      <th>60</th>\n",
       "      <td>Data Scientist</td>\n",
       "      <td>Macquarie Group Limited</td>\n",
       "      <td>melbourne</td>\n",
       "      <td>5 + years' experience of building models and d...</td>\n",
       "      <td>NaN</td>\n",
       "    </tr>\n",
       "    <tr>\n",
       "      <th>62</th>\n",
       "      <td>Data Scientist - Leading Health/MedTech</td>\n",
       "      <td>Datasii</td>\n",
       "      <td>melbourne</td>\n",
       "      <td>Extensive experience as a Data Scientist or Da...</td>\n",
       "      <td>$120,000 - $140,000 a year</td>\n",
       "    </tr>\n",
       "    <tr>\n",
       "      <th>63</th>\n",
       "      <td>Senior Data Scientist</td>\n",
       "      <td>Shelde</td>\n",
       "      <td>melbourne</td>\n",
       "      <td>As a Data Scientist at Shelde, you will form a...</td>\n",
       "      <td>NaN</td>\n",
       "    </tr>\n",
       "    <tr>\n",
       "      <th>...</th>\n",
       "      <td>...</td>\n",
       "      <td>...</td>\n",
       "      <td>...</td>\n",
       "      <td>...</td>\n",
       "      <td>...</td>\n",
       "    </tr>\n",
       "    <tr>\n",
       "      <th>541</th>\n",
       "      <td>Big Data Engineer / Architect</td>\n",
       "      <td>Talent Realised Pty Ltd</td>\n",
       "      <td>sydney</td>\n",
       "      <td>Experience with Data streaming (Realtime / liv...</td>\n",
       "      <td>NaN</td>\n",
       "    </tr>\n",
       "    <tr>\n",
       "      <th>582</th>\n",
       "      <td>Lead Data Scientist in Sydney</td>\n",
       "      <td>Metigy</td>\n",
       "      <td>sydney</td>\n",
       "      <td>Data Science in Sydney, Australia. Leading the...</td>\n",
       "      <td>NaN</td>\n",
       "    </tr>\n",
       "    <tr>\n",
       "      <th>602</th>\n",
       "      <td>Senior Big Data Engineer</td>\n",
       "      <td>Morgan McKinley</td>\n",
       "      <td>sydney</td>\n",
       "      <td>Senior Big Data Engineer. Azure Big Data engin...</td>\n",
       "      <td>$120,000 - $160,000 a year</td>\n",
       "    </tr>\n",
       "    <tr>\n",
       "      <th>603</th>\n",
       "      <td>Data Scientist</td>\n",
       "      <td>Precision Sourcing</td>\n",
       "      <td>sydney</td>\n",
       "      <td>The team is made up of a variety of lead data ...</td>\n",
       "      <td>NaN</td>\n",
       "    </tr>\n",
       "    <tr>\n",
       "      <th>605</th>\n",
       "      <td>Data Scientist</td>\n",
       "      <td>Progressive Recruitment</td>\n",
       "      <td>sydney</td>\n",
       "      <td>The ideal Data Engineer will design, build and...</td>\n",
       "      <td>$650 - $850 a day</td>\n",
       "    </tr>\n",
       "    <tr>\n",
       "      <th>628</th>\n",
       "      <td>Senior Data Engineer Sydney, Australia</td>\n",
       "      <td>Salt Recruitment</td>\n",
       "      <td>sydney</td>\n",
       "      <td>Senior Data Engineer. Responsibilities of the ...</td>\n",
       "      <td>$150,000 - $175,000 a year</td>\n",
       "    </tr>\n",
       "    <tr>\n",
       "      <th>632</th>\n",
       "      <td>Software Engineer - Big Data</td>\n",
       "      <td>Spark Recruitment</td>\n",
       "      <td>sydney</td>\n",
       "      <td>Our client is looking for a SEnior Software En...</td>\n",
       "      <td>NaN</td>\n",
       "    </tr>\n",
       "    <tr>\n",
       "      <th>664</th>\n",
       "      <td>Machine Learning Engineer</td>\n",
       "      <td>Reesby Recruitment</td>\n",
       "      <td>sydney</td>\n",
       "      <td>Working with data. Reesby are seeking an exper...</td>\n",
       "      <td>$120,000 - $190,000 a year</td>\n",
       "    </tr>\n",
       "    <tr>\n",
       "      <th>667</th>\n",
       "      <td>Machine Learning Consultant</td>\n",
       "      <td>Servian</td>\n",
       "      <td>sydney</td>\n",
       "      <td>Data &amp; Analytics - BI/DW, Big Data Analytics, ...</td>\n",
       "      <td>NaN</td>\n",
       "    </tr>\n",
       "    <tr>\n",
       "      <th>696</th>\n",
       "      <td>Data Analyst</td>\n",
       "      <td>Robert Half Australia</td>\n",
       "      <td>sydney</td>\n",
       "      <td>Work closely with data scientist, and the repo...</td>\n",
       "      <td>$100,000 a year</td>\n",
       "    </tr>\n",
       "    <tr>\n",
       "      <th>701</th>\n",
       "      <td>Data Analyst</td>\n",
       "      <td>Progressive Recruitment</td>\n",
       "      <td>sydney</td>\n",
       "      <td>The requirements of the Data Engineer. The ide...</td>\n",
       "      <td>NaN</td>\n",
       "    </tr>\n",
       "    <tr>\n",
       "      <th>709</th>\n",
       "      <td>Senior Big Data Engineer</td>\n",
       "      <td>Zip Co Limited</td>\n",
       "      <td>sydney</td>\n",
       "      <td>Defining ETL, including Data modelling, Data I...</td>\n",
       "      <td>NaN</td>\n",
       "    </tr>\n",
       "    <tr>\n",
       "      <th>760</th>\n",
       "      <td>Software Engineer - Machine Learning</td>\n",
       "      <td>Spark Recruitment</td>\n",
       "      <td>sydney</td>\n",
       "      <td>Extensive experience as a Software Engineer in...</td>\n",
       "      <td>$130,000 - $160,000 a year</td>\n",
       "    </tr>\n",
       "    <tr>\n",
       "      <th>785</th>\n",
       "      <td>Data Centre Team Leader</td>\n",
       "      <td>Ashdown People</td>\n",
       "      <td>sydney</td>\n",
       "      <td>Managing &amp; developing level 1 engineers within...</td>\n",
       "      <td>$120,000 a year</td>\n",
       "    </tr>\n",
       "    <tr>\n",
       "      <th>805</th>\n",
       "      <td>Data Engineer, Senior Big Data Engineer - AWS,...</td>\n",
       "      <td>Infinity Pro</td>\n",
       "      <td>sydney</td>\n",
       "      <td>Commercial experience as a Senior Data Enginee...</td>\n",
       "      <td>NaN</td>\n",
       "    </tr>\n",
       "    <tr>\n",
       "      <th>807</th>\n",
       "      <td>Machine Learning Engineer: (AWS - SPARK - SCAL...</td>\n",
       "      <td>Aurec Human Capital Group</td>\n",
       "      <td>sydney</td>\n",
       "      <td>At least 4yrs+ experience working as a Data En...</td>\n",
       "      <td>NaN</td>\n",
       "    </tr>\n",
       "    <tr>\n",
       "      <th>816</th>\n",
       "      <td>Big Data Architect Senior Manager</td>\n",
       "      <td>Accenture</td>\n",
       "      <td>sydney</td>\n",
       "      <td>Strong understanding of data warehouse, data l...</td>\n",
       "      <td>NaN</td>\n",
       "    </tr>\n",
       "    <tr>\n",
       "      <th>852</th>\n",
       "      <td>Data Analyst Wealth Management</td>\n",
       "      <td>Progressive Recruitment</td>\n",
       "      <td>sydney</td>\n",
       "      <td>Data Engineer- Financial Services- Sydney CBD....</td>\n",
       "      <td>NaN</td>\n",
       "    </tr>\n",
       "    <tr>\n",
       "      <th>868</th>\n",
       "      <td>Data Centre Team Leader</td>\n",
       "      <td>Ashdown Consulting</td>\n",
       "      <td>sydney</td>\n",
       "      <td>Managing &amp; developing level 1 engineers within...</td>\n",
       "      <td>$120,000 a year</td>\n",
       "    </tr>\n",
       "    <tr>\n",
       "      <th>898</th>\n",
       "      <td>Machine Learning Engineer / Scientist - Optimi...</td>\n",
       "      <td>Infopeople</td>\n",
       "      <td>sydney</td>\n",
       "      <td>Leading a team of data scientists and engineer...</td>\n",
       "      <td>NaN</td>\n",
       "    </tr>\n",
       "    <tr>\n",
       "      <th>985</th>\n",
       "      <td>Senior Data Centre Network Engineer</td>\n",
       "      <td>Peoplebank</td>\n",
       "      <td>sydney</td>\n",
       "      <td>Support and manage the data network infrastruc...</td>\n",
       "      <td>NaN</td>\n",
       "    </tr>\n",
       "    <tr>\n",
       "      <th>1023</th>\n",
       "      <td>Machine Learning Specialist</td>\n",
       "      <td>Reesby Recruitment</td>\n",
       "      <td>sydney</td>\n",
       "      <td>Working with data. Reesby are seeking an exper...</td>\n",
       "      <td>$1,000 - $1,500 a day</td>\n",
       "    </tr>\n",
       "    <tr>\n",
       "      <th>1031</th>\n",
       "      <td>Database Engineer (NoSQL) - Award Winning US T...</td>\n",
       "      <td>The Argyle Network</td>\n",
       "      <td>sydney</td>\n",
       "      <td>DBA, DevOps, system administration, Site Relia...</td>\n",
       "      <td>NaN</td>\n",
       "    </tr>\n",
       "    <tr>\n",
       "      <th>1033</th>\n",
       "      <td>Senior Data Visualisation Engineer - Financial...</td>\n",
       "      <td>Bluefin Resources</td>\n",
       "      <td>sydney</td>\n",
       "      <td>Senior Data Visualisation Engineer. Understand...</td>\n",
       "      <td>NaN</td>\n",
       "    </tr>\n",
       "    <tr>\n",
       "      <th>1038</th>\n",
       "      <td>Data Engineering Manager</td>\n",
       "      <td>Precision Sourcing</td>\n",
       "      <td>sydney</td>\n",
       "      <td>You will be working experienced Big Data Engin...</td>\n",
       "      <td>NaN</td>\n",
       "    </tr>\n",
       "    <tr>\n",
       "      <th>1054</th>\n",
       "      <td>Digital Sales Manager - Programmatic &amp; Data</td>\n",
       "      <td>Digital Gurus</td>\n",
       "      <td>sydney</td>\n",
       "      <td>With an expert team of data scientists and R&amp;D...</td>\n",
       "      <td>NaN</td>\n",
       "    </tr>\n",
       "    <tr>\n",
       "      <th>1063</th>\n",
       "      <td>Master Data Process Analyst</td>\n",
       "      <td>Total Resource Solutions</td>\n",
       "      <td>sydney</td>\n",
       "      <td>Ability to identify, investigate, analyse, und...</td>\n",
       "      <td>NaN</td>\n",
       "    </tr>\n",
       "    <tr>\n",
       "      <th>1127</th>\n",
       "      <td>SAP BODS / SAP Data Specialist - Adelaide CBD ...</td>\n",
       "      <td>Total Resource Solutions</td>\n",
       "      <td>sydney</td>\n",
       "      <td>Strong experience across data integration, dat...</td>\n",
       "      <td>NaN</td>\n",
       "    </tr>\n",
       "    <tr>\n",
       "      <th>1239</th>\n",
       "      <td>Senior Java Software Engineer x2 - Big Data</td>\n",
       "      <td>Hawksworth</td>\n",
       "      <td>sydney</td>\n",
       "      <td>This includes 5 Software Engineers, 1 QA, 1 Sc...</td>\n",
       "      <td>NaN</td>\n",
       "    </tr>\n",
       "    <tr>\n",
       "      <th>1246</th>\n",
       "      <td>Senior Software Engineer x2 - Big Data</td>\n",
       "      <td>Hawksworth</td>\n",
       "      <td>sydney</td>\n",
       "      <td>This includes 5 Software Engineers, 1 QA, 1 Sc...</td>\n",
       "      <td>NaN</td>\n",
       "    </tr>\n",
       "  </tbody>\n",
       "</table>\n",
       "<p>614 rows × 5 columns</p>\n",
       "</div>"
      ],
      "text/plain": [
       "                                                  title  \\\n",
       "0                        Senior Data Scientist - Belong   \n",
       "1                                        Data Scientist   \n",
       "2                                        Data Scientist   \n",
       "3                                        Data Scientist   \n",
       "4                                        Data Scientist   \n",
       "5                               Data Scientist - Sydney   \n",
       "6                                        Data Scientist   \n",
       "7                                        Data Scientist   \n",
       "8                                        Data Scientist   \n",
       "9                                 Senior Data Scientist   \n",
       "10                                       Data Scientist   \n",
       "11    Business Intelligence Analyst/Data Scientist G...   \n",
       "12                             Freelance Data Scientist   \n",
       "13                       Financial Crime Data Scientist   \n",
       "14                                        Data Engineer   \n",
       "15                        Data Specialist and Scientist   \n",
       "22                        Data Scientist - Solution 49x   \n",
       "23                             Data Scientist/ Engineer   \n",
       "24                                Senior Data Scientist   \n",
       "28                                       Data Scientist   \n",
       "29                                Data Analyst Graduate   \n",
       "30                           Data Science Opportunities   \n",
       "35                           Consultant, Data Scientist   \n",
       "39                                       Data Scientist   \n",
       "42                 Data Scientist (Maintenance Support)   \n",
       "47            Data Scientist - Australian Market Leader   \n",
       "48                                       Data Scientist   \n",
       "60                                       Data Scientist   \n",
       "62              Data Scientist - Leading Health/MedTech   \n",
       "63                                Senior Data Scientist   \n",
       "...                                                 ...   \n",
       "541                       Big Data Engineer / Architect   \n",
       "582                       Lead Data Scientist in Sydney   \n",
       "602                            Senior Big Data Engineer   \n",
       "603                                      Data Scientist   \n",
       "605                                      Data Scientist   \n",
       "628              Senior Data Engineer Sydney, Australia   \n",
       "632                        Software Engineer - Big Data   \n",
       "664                           Machine Learning Engineer   \n",
       "667                         Machine Learning Consultant   \n",
       "696                                        Data Analyst   \n",
       "701                                        Data Analyst   \n",
       "709                            Senior Big Data Engineer   \n",
       "760                Software Engineer - Machine Learning   \n",
       "785                             Data Centre Team Leader   \n",
       "805   Data Engineer, Senior Big Data Engineer - AWS,...   \n",
       "807   Machine Learning Engineer: (AWS - SPARK - SCAL...   \n",
       "816                   Big Data Architect Senior Manager   \n",
       "852                      Data Analyst Wealth Management   \n",
       "868                             Data Centre Team Leader   \n",
       "898   Machine Learning Engineer / Scientist - Optimi...   \n",
       "985                 Senior Data Centre Network Engineer   \n",
       "1023                        Machine Learning Specialist   \n",
       "1031  Database Engineer (NoSQL) - Award Winning US T...   \n",
       "1033  Senior Data Visualisation Engineer - Financial...   \n",
       "1038                           Data Engineering Manager   \n",
       "1054        Digital Sales Manager - Programmatic & Data   \n",
       "1063                        Master Data Process Analyst   \n",
       "1127  SAP BODS / SAP Data Specialist - Adelaide CBD ...   \n",
       "1239        Senior Java Software Engineer x2 - Big Data   \n",
       "1246             Senior Software Engineer x2 - Big Data   \n",
       "\n",
       "                                     company   location  \\\n",
       "0                                    Telstra  melbourne   \n",
       "1                               Cover Genius  melbourne   \n",
       "2                                   Teradata  melbourne   \n",
       "3                                Culture Amp  melbourne   \n",
       "4                        Omnicom Media Group  melbourne   \n",
       "5                       Australian Red Cross  melbourne   \n",
       "6                                 THE ICONIC  melbourne   \n",
       "7                                 Tigerspike  melbourne   \n",
       "8                                 Hyper Anna  melbourne   \n",
       "9     Algorithmic Trading Strategies Pty Ltd  melbourne   \n",
       "10                            Freelancer.com  melbourne   \n",
       "11                             Cisco Careers  melbourne   \n",
       "12                                 mOOvement  melbourne   \n",
       "13                         ANZ Banking Group  melbourne   \n",
       "14                         Deakin University  melbourne   \n",
       "15                         Deakin University  melbourne   \n",
       "22                                      KPMG  melbourne   \n",
       "23                                  Quantexa  melbourne   \n",
       "24                     AWS Australia Pty Ltd  melbourne   \n",
       "28      Australian Securities Exchange (ASX)  melbourne   \n",
       "29                               Reece Group  melbourne   \n",
       "30                                      KPMG  melbourne   \n",
       "35             NAB - National Australia Bank  melbourne   \n",
       "39                                 Munich Re  melbourne   \n",
       "42                               UGL Limited  melbourne   \n",
       "47                                   Datasii  melbourne   \n",
       "48                          Freshwater Group  melbourne   \n",
       "60                   Macquarie Group Limited  melbourne   \n",
       "62                                   Datasii  melbourne   \n",
       "63                                    Shelde  melbourne   \n",
       "...                                      ...        ...   \n",
       "541                  Talent Realised Pty Ltd     sydney   \n",
       "582                                   Metigy     sydney   \n",
       "602                          Morgan McKinley     sydney   \n",
       "603                       Precision Sourcing     sydney   \n",
       "605                  Progressive Recruitment     sydney   \n",
       "628                         Salt Recruitment     sydney   \n",
       "632                        Spark Recruitment     sydney   \n",
       "664                       Reesby Recruitment     sydney   \n",
       "667                                  Servian     sydney   \n",
       "696                    Robert Half Australia     sydney   \n",
       "701                  Progressive Recruitment     sydney   \n",
       "709                           Zip Co Limited     sydney   \n",
       "760                        Spark Recruitment     sydney   \n",
       "785                           Ashdown People     sydney   \n",
       "805                             Infinity Pro     sydney   \n",
       "807                Aurec Human Capital Group     sydney   \n",
       "816                                Accenture     sydney   \n",
       "852                  Progressive Recruitment     sydney   \n",
       "868                       Ashdown Consulting     sydney   \n",
       "898                               Infopeople     sydney   \n",
       "985                               Peoplebank     sydney   \n",
       "1023                      Reesby Recruitment     sydney   \n",
       "1031                      The Argyle Network     sydney   \n",
       "1033                       Bluefin Resources     sydney   \n",
       "1038                      Precision Sourcing     sydney   \n",
       "1054                           Digital Gurus     sydney   \n",
       "1063                Total Resource Solutions     sydney   \n",
       "1127                Total Resource Solutions     sydney   \n",
       "1239                              Hawksworth     sydney   \n",
       "1246                              Hawksworth     sydney   \n",
       "\n",
       "                                                summary  \\\n",
       "0     Ability to coach and mentor other data scienti...   \n",
       "1     We’re seeking a senior data scientist to suppo...   \n",
       "2     Data ScientistThe Data Scientist gathers intel...   \n",
       "3     Your primary role will be to gather, analyse a...   \n",
       "4     As the Data Scientist, you'll play a critical ...   \n",
       "5     Strong business data acumen with the ability t...   \n",
       "6     We are looking for an experienced Data Scienti...   \n",
       "7     The successful candidate will be a Data Scient...   \n",
       "8     This is a client-facing role and you'll be the...   \n",
       "9     We are looking for an experienced Data Scienti...   \n",
       "10    Proven experience as a data scientist or analy...   \n",
       "11    Graduate Business Intelligence Analyst / Data ...   \n",
       "12    Empowering cattle producers with real-time dat...   \n",
       "13    Data test automation capabilities. The Financi...   \n",
       "14    Your responsibilities include developing, impl...   \n",
       "15    This role requires an experienced Data Special...   \n",
       "22    As a Data Scientist in our team, you will:. As...   \n",
       "23    Work very closely with data scientists to ensu...   \n",
       "24    Our Data Scientists can live in any location w...   \n",
       "28     Gained a good level of knowledge and experie...   \n",
       "29    Data Analyst Graduate. The Graduate Data Analy...   \n",
       "30    Our team is seeking data scientists to support...   \n",
       "35    Reporting to the Manager, Delivery Analytics E...   \n",
       "39    Data Analytics and Modelling. Identifies what ...   \n",
       "42    Data Scientist (Maintenance Support)-235255. A...   \n",
       "47    Due to continued growth in the Data Science te...   \n",
       "48    The Data Scientist will:. Manage data sets. A ...   \n",
       "60    5 + years' experience of building models and d...   \n",
       "62    Extensive experience as a Data Scientist or Da...   \n",
       "63    As a Data Scientist at Shelde, you will form a...   \n",
       "...                                                 ...   \n",
       "541   Experience with Data streaming (Realtime / liv...   \n",
       "582   Data Science in Sydney, Australia. Leading the...   \n",
       "602   Senior Big Data Engineer. Azure Big Data engin...   \n",
       "603   The team is made up of a variety of lead data ...   \n",
       "605   The ideal Data Engineer will design, build and...   \n",
       "628   Senior Data Engineer. Responsibilities of the ...   \n",
       "632   Our client is looking for a SEnior Software En...   \n",
       "664   Working with data. Reesby are seeking an exper...   \n",
       "667   Data & Analytics - BI/DW, Big Data Analytics, ...   \n",
       "696   Work closely with data scientist, and the repo...   \n",
       "701   The requirements of the Data Engineer. The ide...   \n",
       "709   Defining ETL, including Data modelling, Data I...   \n",
       "760   Extensive experience as a Software Engineer in...   \n",
       "785   Managing & developing level 1 engineers within...   \n",
       "805   Commercial experience as a Senior Data Enginee...   \n",
       "807   At least 4yrs+ experience working as a Data En...   \n",
       "816   Strong understanding of data warehouse, data l...   \n",
       "852   Data Engineer- Financial Services- Sydney CBD....   \n",
       "868   Managing & developing level 1 engineers within...   \n",
       "898   Leading a team of data scientists and engineer...   \n",
       "985   Support and manage the data network infrastruc...   \n",
       "1023  Working with data. Reesby are seeking an exper...   \n",
       "1031  DBA, DevOps, system administration, Site Relia...   \n",
       "1033  Senior Data Visualisation Engineer. Understand...   \n",
       "1038  You will be working experienced Big Data Engin...   \n",
       "1054  With an expert team of data scientists and R&D...   \n",
       "1063  Ability to identify, investigate, analyse, und...   \n",
       "1127  Strong experience across data integration, dat...   \n",
       "1239  This includes 5 Software Engineers, 1 QA, 1 Sc...   \n",
       "1246  This includes 5 Software Engineers, 1 QA, 1 Sc...   \n",
       "\n",
       "                          salary  \n",
       "0                            NaN  \n",
       "1                            NaN  \n",
       "2                            NaN  \n",
       "3                            NaN  \n",
       "4                            NaN  \n",
       "5                            NaN  \n",
       "6                            NaN  \n",
       "7                            NaN  \n",
       "8                            NaN  \n",
       "9     $180,000 - $200,000 a year  \n",
       "10     $65,000 - $110,000 a year  \n",
       "11                           NaN  \n",
       "12     $90,000 - $110,000 a year  \n",
       "13                           NaN  \n",
       "14                           NaN  \n",
       "15                           NaN  \n",
       "22                           NaN  \n",
       "23      $71,000 - $94,000 a year  \n",
       "24                           NaN  \n",
       "28                           NaN  \n",
       "29                           NaN  \n",
       "30                           NaN  \n",
       "35                           NaN  \n",
       "39                           NaN  \n",
       "42                           NaN  \n",
       "47    $120,000 - $135,000 a year  \n",
       "48                           NaN  \n",
       "60                           NaN  \n",
       "62    $120,000 - $140,000 a year  \n",
       "63                           NaN  \n",
       "...                          ...  \n",
       "541                          NaN  \n",
       "582                          NaN  \n",
       "602   $120,000 - $160,000 a year  \n",
       "603                          NaN  \n",
       "605            $650 - $850 a day  \n",
       "628   $150,000 - $175,000 a year  \n",
       "632                          NaN  \n",
       "664   $120,000 - $190,000 a year  \n",
       "667                          NaN  \n",
       "696              $100,000 a year  \n",
       "701                          NaN  \n",
       "709                          NaN  \n",
       "760   $130,000 - $160,000 a year  \n",
       "785              $120,000 a year  \n",
       "805                          NaN  \n",
       "807                          NaN  \n",
       "816                          NaN  \n",
       "852                          NaN  \n",
       "868              $120,000 a year  \n",
       "898                          NaN  \n",
       "985                          NaN  \n",
       "1023       $1,000 - $1,500 a day  \n",
       "1031                         NaN  \n",
       "1033                         NaN  \n",
       "1038                         NaN  \n",
       "1054                         NaN  \n",
       "1063                         NaN  \n",
       "1127                         NaN  \n",
       "1239                         NaN  \n",
       "1246                         NaN  \n",
       "\n",
       "[614 rows x 5 columns]"
      ]
     },
     "execution_count": 36,
     "metadata": {},
     "output_type": "execute_result"
    }
   ],
   "source": [
    "df_data"
   ]
  },
  {
   "cell_type": "code",
   "execution_count": 38,
   "metadata": {},
   "outputs": [],
   "source": [
    "df_data.reset_index(inplace=True)"
   ]
  },
  {
   "cell_type": "code",
   "execution_count": 41,
   "metadata": {},
   "outputs": [
    {
     "name": "stderr",
     "output_type": "stream",
     "text": [
      "/Volumes/ravi/anaconda3/lib/python3.7/site-packages/pandas/core/frame.py:3697: SettingWithCopyWarning: \n",
      "A value is trying to be set on a copy of a slice from a DataFrame\n",
      "\n",
      "See the caveats in the documentation: http://pandas.pydata.org/pandas-docs/stable/indexing.html#indexing-view-versus-copy\n",
      "  errors=errors)\n"
     ]
    }
   ],
   "source": [
    "df_data.drop(['index'], axis =1, inplace=True)"
   ]
  },
  {
   "cell_type": "code",
   "execution_count": 43,
   "metadata": {},
   "outputs": [
    {
     "data": {
      "text/html": [
       "<div>\n",
       "<style scoped>\n",
       "    .dataframe tbody tr th:only-of-type {\n",
       "        vertical-align: middle;\n",
       "    }\n",
       "\n",
       "    .dataframe tbody tr th {\n",
       "        vertical-align: top;\n",
       "    }\n",
       "\n",
       "    .dataframe thead th {\n",
       "        text-align: right;\n",
       "    }\n",
       "</style>\n",
       "<table border=\"1\" class=\"dataframe\">\n",
       "  <thead>\n",
       "    <tr style=\"text-align: right;\">\n",
       "      <th></th>\n",
       "      <th>title</th>\n",
       "      <th>company</th>\n",
       "      <th>location</th>\n",
       "      <th>summary</th>\n",
       "      <th>salary</th>\n",
       "    </tr>\n",
       "  </thead>\n",
       "  <tbody>\n",
       "    <tr>\n",
       "      <th>0</th>\n",
       "      <td>Senior Data Scientist - Belong</td>\n",
       "      <td>Telstra</td>\n",
       "      <td>melbourne</td>\n",
       "      <td>Ability to coach and mentor other data scienti...</td>\n",
       "      <td>NaN</td>\n",
       "    </tr>\n",
       "    <tr>\n",
       "      <th>1</th>\n",
       "      <td>Data Scientist</td>\n",
       "      <td>Cover Genius</td>\n",
       "      <td>melbourne</td>\n",
       "      <td>We’re seeking a senior data scientist to suppo...</td>\n",
       "      <td>NaN</td>\n",
       "    </tr>\n",
       "    <tr>\n",
       "      <th>2</th>\n",
       "      <td>Data Scientist</td>\n",
       "      <td>Teradata</td>\n",
       "      <td>melbourne</td>\n",
       "      <td>Data ScientistThe Data Scientist gathers intel...</td>\n",
       "      <td>NaN</td>\n",
       "    </tr>\n",
       "    <tr>\n",
       "      <th>3</th>\n",
       "      <td>Data Scientist</td>\n",
       "      <td>Culture Amp</td>\n",
       "      <td>melbourne</td>\n",
       "      <td>Your primary role will be to gather, analyse a...</td>\n",
       "      <td>NaN</td>\n",
       "    </tr>\n",
       "    <tr>\n",
       "      <th>4</th>\n",
       "      <td>Data Scientist</td>\n",
       "      <td>Omnicom Media Group</td>\n",
       "      <td>melbourne</td>\n",
       "      <td>As the Data Scientist, you'll play a critical ...</td>\n",
       "      <td>NaN</td>\n",
       "    </tr>\n",
       "  </tbody>\n",
       "</table>\n",
       "</div>"
      ],
      "text/plain": [
       "                            title              company   location  \\\n",
       "0  Senior Data Scientist - Belong              Telstra  melbourne   \n",
       "1                  Data Scientist         Cover Genius  melbourne   \n",
       "2                  Data Scientist             Teradata  melbourne   \n",
       "3                  Data Scientist          Culture Amp  melbourne   \n",
       "4                  Data Scientist  Omnicom Media Group  melbourne   \n",
       "\n",
       "                                             summary salary  \n",
       "0  Ability to coach and mentor other data scienti...    NaN  \n",
       "1  We’re seeking a senior data scientist to suppo...    NaN  \n",
       "2  Data ScientistThe Data Scientist gathers intel...    NaN  \n",
       "3  Your primary role will be to gather, analyse a...    NaN  \n",
       "4  As the Data Scientist, you'll play a critical ...    NaN  "
      ]
     },
     "execution_count": 43,
     "metadata": {},
     "output_type": "execute_result"
    }
   ],
   "source": [
    "df_data.head()"
   ]
  },
  {
   "cell_type": "code",
   "execution_count": 44,
   "metadata": {},
   "outputs": [
    {
     "data": {
      "text/plain": [
       "462"
      ]
     },
     "execution_count": 44,
     "metadata": {},
     "output_type": "execute_result"
    }
   ],
   "source": []
  },
  {
   "cell_type": "code",
   "execution_count": 45,
   "metadata": {},
   "outputs": [],
   "source": [
    "df_data.to_csv('indeed614.csv',index = False)"
   ]
  },
  {
   "cell_type": "code",
   "execution_count": 377,
   "metadata": {},
   "outputs": [],
   "source": [
    "#reading the data frame with no duplicates\n",
    "df = pd.read_csv(\"indeed614.csv\")"
   ]
  },
  {
   "cell_type": "code",
   "execution_count": 378,
   "metadata": {},
   "outputs": [
    {
     "data": {
      "text/html": [
       "<div>\n",
       "<style scoped>\n",
       "    .dataframe tbody tr th:only-of-type {\n",
       "        vertical-align: middle;\n",
       "    }\n",
       "\n",
       "    .dataframe tbody tr th {\n",
       "        vertical-align: top;\n",
       "    }\n",
       "\n",
       "    .dataframe thead th {\n",
       "        text-align: right;\n",
       "    }\n",
       "</style>\n",
       "<table border=\"1\" class=\"dataframe\">\n",
       "  <thead>\n",
       "    <tr style=\"text-align: right;\">\n",
       "      <th></th>\n",
       "      <th>title</th>\n",
       "      <th>company</th>\n",
       "      <th>location</th>\n",
       "      <th>summary</th>\n",
       "      <th>salary</th>\n",
       "    </tr>\n",
       "  </thead>\n",
       "  <tbody>\n",
       "    <tr>\n",
       "      <th>0</th>\n",
       "      <td>Senior Data Scientist - Belong</td>\n",
       "      <td>Telstra</td>\n",
       "      <td>melbourne</td>\n",
       "      <td>Ability to coach and mentor other data scienti...</td>\n",
       "      <td>NaN</td>\n",
       "    </tr>\n",
       "    <tr>\n",
       "      <th>1</th>\n",
       "      <td>Data Scientist</td>\n",
       "      <td>Cover Genius</td>\n",
       "      <td>melbourne</td>\n",
       "      <td>We’re seeking a senior data scientist to suppo...</td>\n",
       "      <td>NaN</td>\n",
       "    </tr>\n",
       "    <tr>\n",
       "      <th>2</th>\n",
       "      <td>Data Scientist</td>\n",
       "      <td>Teradata</td>\n",
       "      <td>melbourne</td>\n",
       "      <td>Data ScientistThe Data Scientist gathers intel...</td>\n",
       "      <td>NaN</td>\n",
       "    </tr>\n",
       "    <tr>\n",
       "      <th>3</th>\n",
       "      <td>Data Scientist</td>\n",
       "      <td>Culture Amp</td>\n",
       "      <td>melbourne</td>\n",
       "      <td>Your primary role will be to gather, analyse a...</td>\n",
       "      <td>NaN</td>\n",
       "    </tr>\n",
       "    <tr>\n",
       "      <th>4</th>\n",
       "      <td>Data Scientist</td>\n",
       "      <td>Omnicom Media Group</td>\n",
       "      <td>melbourne</td>\n",
       "      <td>As the Data Scientist, you'll play a critical ...</td>\n",
       "      <td>NaN</td>\n",
       "    </tr>\n",
       "  </tbody>\n",
       "</table>\n",
       "</div>"
      ],
      "text/plain": [
       "                            title              company   location  \\\n",
       "0  Senior Data Scientist - Belong              Telstra  melbourne   \n",
       "1                  Data Scientist         Cover Genius  melbourne   \n",
       "2                  Data Scientist             Teradata  melbourne   \n",
       "3                  Data Scientist          Culture Amp  melbourne   \n",
       "4                  Data Scientist  Omnicom Media Group  melbourne   \n",
       "\n",
       "                                             summary salary  \n",
       "0  Ability to coach and mentor other data scienti...    NaN  \n",
       "1  We’re seeking a senior data scientist to suppo...    NaN  \n",
       "2  Data ScientistThe Data Scientist gathers intel...    NaN  \n",
       "3  Your primary role will be to gather, analyse a...    NaN  \n",
       "4  As the Data Scientist, you'll play a critical ...    NaN  "
      ]
     },
     "execution_count": 378,
     "metadata": {},
     "output_type": "execute_result"
    }
   ],
   "source": [
    "df.head()"
   ]
  },
  {
   "cell_type": "code",
   "execution_count": 379,
   "metadata": {},
   "outputs": [
    {
     "data": {
      "text/plain": [
       "462"
      ]
     },
     "execution_count": 379,
     "metadata": {},
     "output_type": "execute_result"
    }
   ],
   "source": [
    "#checking the number of null values in salary column\n",
    "df.salary.isnull().sum()"
   ]
  },
  {
   "cell_type": "markdown",
   "metadata": {},
   "source": [
    "#### Selecting relevant salary information"
   ]
  },
  {
   "cell_type": "code",
   "execution_count": 380,
   "metadata": {},
   "outputs": [],
   "source": [
    "# Redefine the dataframe to only include rows with salary information for yesr, month or week\n",
    "df = df.loc[df.salary.str.contains(\"year\") | df.salary.str.contains(\"month\") | \n",
    "            df.salary.str.contains(\"week\")|df.salary.str.contains(\"day\")|df.salary.str.contains(\"hour\")]"
   ]
  },
  {
   "cell_type": "code",
   "execution_count": 382,
   "metadata": {},
   "outputs": [
    {
     "data": {
      "text/html": [
       "<div>\n",
       "<style scoped>\n",
       "    .dataframe tbody tr th:only-of-type {\n",
       "        vertical-align: middle;\n",
       "    }\n",
       "\n",
       "    .dataframe tbody tr th {\n",
       "        vertical-align: top;\n",
       "    }\n",
       "\n",
       "    .dataframe thead th {\n",
       "        text-align: right;\n",
       "    }\n",
       "</style>\n",
       "<table border=\"1\" class=\"dataframe\">\n",
       "  <thead>\n",
       "    <tr style=\"text-align: right;\">\n",
       "      <th></th>\n",
       "      <th>title</th>\n",
       "      <th>company</th>\n",
       "      <th>location</th>\n",
       "      <th>summary</th>\n",
       "      <th>salary</th>\n",
       "    </tr>\n",
       "  </thead>\n",
       "  <tbody>\n",
       "    <tr>\n",
       "      <th>9</th>\n",
       "      <td>Senior Data Scientist</td>\n",
       "      <td>Algorithmic Trading Strategies Pty Ltd</td>\n",
       "      <td>melbourne</td>\n",
       "      <td>We are looking for an experienced Data Scienti...</td>\n",
       "      <td>$180,000 - $200,000 a year</td>\n",
       "    </tr>\n",
       "    <tr>\n",
       "      <th>10</th>\n",
       "      <td>Data Scientist</td>\n",
       "      <td>Freelancer.com</td>\n",
       "      <td>melbourne</td>\n",
       "      <td>Proven experience as a data scientist or analy...</td>\n",
       "      <td>$65,000 - $110,000 a year</td>\n",
       "    </tr>\n",
       "    <tr>\n",
       "      <th>12</th>\n",
       "      <td>Freelance Data Scientist</td>\n",
       "      <td>mOOvement</td>\n",
       "      <td>melbourne</td>\n",
       "      <td>Empowering cattle producers with real-time dat...</td>\n",
       "      <td>$90,000 - $110,000 a year</td>\n",
       "    </tr>\n",
       "    <tr>\n",
       "      <th>17</th>\n",
       "      <td>Data Scientist/ Engineer</td>\n",
       "      <td>Quantexa</td>\n",
       "      <td>melbourne</td>\n",
       "      <td>Work very closely with data scientists to ensu...</td>\n",
       "      <td>$71,000 - $94,000 a year</td>\n",
       "    </tr>\n",
       "    <tr>\n",
       "      <th>25</th>\n",
       "      <td>Data Scientist - Australian Market Leader</td>\n",
       "      <td>Datasii</td>\n",
       "      <td>melbourne</td>\n",
       "      <td>Due to continued growth in the Data Science te...</td>\n",
       "      <td>$120,000 - $135,000 a year</td>\n",
       "    </tr>\n",
       "  </tbody>\n",
       "</table>\n",
       "</div>"
      ],
      "text/plain": [
       "                                        title  \\\n",
       "9                       Senior Data Scientist   \n",
       "10                             Data Scientist   \n",
       "12                   Freelance Data Scientist   \n",
       "17                   Data Scientist/ Engineer   \n",
       "25  Data Scientist - Australian Market Leader   \n",
       "\n",
       "                                   company   location  \\\n",
       "9   Algorithmic Trading Strategies Pty Ltd  melbourne   \n",
       "10                          Freelancer.com  melbourne   \n",
       "12                               mOOvement  melbourne   \n",
       "17                                Quantexa  melbourne   \n",
       "25                                 Datasii  melbourne   \n",
       "\n",
       "                                              summary  \\\n",
       "9   We are looking for an experienced Data Scienti...   \n",
       "10  Proven experience as a data scientist or analy...   \n",
       "12  Empowering cattle producers with real-time dat...   \n",
       "17  Work very closely with data scientists to ensu...   \n",
       "25  Due to continued growth in the Data Science te...   \n",
       "\n",
       "                        salary  \n",
       "9   $180,000 - $200,000 a year  \n",
       "10   $65,000 - $110,000 a year  \n",
       "12   $90,000 - $110,000 a year  \n",
       "17    $71,000 - $94,000 a year  \n",
       "25  $120,000 - $135,000 a year  "
      ]
     },
     "execution_count": 382,
     "metadata": {},
     "output_type": "execute_result"
    }
   ],
   "source": [
    "df.head()"
   ]
  },
  {
   "cell_type": "code",
   "execution_count": 188,
   "metadata": {},
   "outputs": [
    {
     "data": {
      "text/plain": [
       "(152, 5)"
      ]
     },
     "execution_count": 188,
     "metadata": {},
     "output_type": "execute_result"
    }
   ],
   "source": [
    "#checking the shape of dataframe, so that we can conclude the non missing values in salary column\n",
    "df.shape"
   ]
  },
  {
   "cell_type": "code",
   "execution_count": 383,
   "metadata": {},
   "outputs": [],
   "source": [
    "#resetting index\n",
    "df.reset_index(inplace = True)"
   ]
  },
  {
   "cell_type": "code",
   "execution_count": 190,
   "metadata": {},
   "outputs": [],
   "source": [
    "df.drop(['index'], axis =1, inplace=True)"
   ]
  },
  {
   "cell_type": "code",
   "execution_count": 191,
   "metadata": {},
   "outputs": [
    {
     "data": {
      "text/html": [
       "<div>\n",
       "<style scoped>\n",
       "    .dataframe tbody tr th:only-of-type {\n",
       "        vertical-align: middle;\n",
       "    }\n",
       "\n",
       "    .dataframe tbody tr th {\n",
       "        vertical-align: top;\n",
       "    }\n",
       "\n",
       "    .dataframe thead th {\n",
       "        text-align: right;\n",
       "    }\n",
       "</style>\n",
       "<table border=\"1\" class=\"dataframe\">\n",
       "  <thead>\n",
       "    <tr style=\"text-align: right;\">\n",
       "      <th></th>\n",
       "      <th>title</th>\n",
       "      <th>company</th>\n",
       "      <th>location</th>\n",
       "      <th>summary</th>\n",
       "      <th>salary</th>\n",
       "    </tr>\n",
       "  </thead>\n",
       "  <tbody>\n",
       "    <tr>\n",
       "      <th>0</th>\n",
       "      <td>Senior Data Scientist</td>\n",
       "      <td>Algorithmic Trading Strategies Pty Ltd</td>\n",
       "      <td>melbourne</td>\n",
       "      <td>We are looking for an experienced Data Scienti...</td>\n",
       "      <td>$180,000 - $200,000 a year</td>\n",
       "    </tr>\n",
       "    <tr>\n",
       "      <th>1</th>\n",
       "      <td>Data Scientist</td>\n",
       "      <td>Freelancer.com</td>\n",
       "      <td>melbourne</td>\n",
       "      <td>Proven experience as a data scientist or analy...</td>\n",
       "      <td>$65,000 - $110,000 a year</td>\n",
       "    </tr>\n",
       "    <tr>\n",
       "      <th>2</th>\n",
       "      <td>Freelance Data Scientist</td>\n",
       "      <td>mOOvement</td>\n",
       "      <td>melbourne</td>\n",
       "      <td>Empowering cattle producers with real-time dat...</td>\n",
       "      <td>$90,000 - $110,000 a year</td>\n",
       "    </tr>\n",
       "    <tr>\n",
       "      <th>3</th>\n",
       "      <td>Data Scientist/ Engineer</td>\n",
       "      <td>Quantexa</td>\n",
       "      <td>melbourne</td>\n",
       "      <td>Work very closely with data scientists to ensu...</td>\n",
       "      <td>$71,000 - $94,000 a year</td>\n",
       "    </tr>\n",
       "    <tr>\n",
       "      <th>4</th>\n",
       "      <td>Data Scientist - Australian Market Leader</td>\n",
       "      <td>Datasii</td>\n",
       "      <td>melbourne</td>\n",
       "      <td>Due to continued growth in the Data Science te...</td>\n",
       "      <td>$120,000 - $135,000 a year</td>\n",
       "    </tr>\n",
       "  </tbody>\n",
       "</table>\n",
       "</div>"
      ],
      "text/plain": [
       "                                       title  \\\n",
       "0                      Senior Data Scientist   \n",
       "1                             Data Scientist   \n",
       "2                   Freelance Data Scientist   \n",
       "3                   Data Scientist/ Engineer   \n",
       "4  Data Scientist - Australian Market Leader   \n",
       "\n",
       "                                  company   location  \\\n",
       "0  Algorithmic Trading Strategies Pty Ltd  melbourne   \n",
       "1                          Freelancer.com  melbourne   \n",
       "2                               mOOvement  melbourne   \n",
       "3                                Quantexa  melbourne   \n",
       "4                                 Datasii  melbourne   \n",
       "\n",
       "                                             summary  \\\n",
       "0  We are looking for an experienced Data Scienti...   \n",
       "1  Proven experience as a data scientist or analy...   \n",
       "2  Empowering cattle producers with real-time dat...   \n",
       "3  Work very closely with data scientists to ensu...   \n",
       "4  Due to continued growth in the Data Science te...   \n",
       "\n",
       "                       salary  \n",
       "0  $180,000 - $200,000 a year  \n",
       "1   $65,000 - $110,000 a year  \n",
       "2   $90,000 - $110,000 a year  \n",
       "3    $71,000 - $94,000 a year  \n",
       "4  $120,000 - $135,000 a year  "
      ]
     },
     "execution_count": 191,
     "metadata": {},
     "output_type": "execute_result"
    }
   ],
   "source": [
    "df.head()"
   ]
  },
  {
   "cell_type": "code",
   "execution_count": 192,
   "metadata": {},
   "outputs": [],
   "source": [
    "# This function converts the salary info into a float and rounds up the monthly and weekly salaries\n",
    "def converter(salary):\n",
    "    \n",
    "    # Replace the non numerical characters with a blankspace\n",
    "    salary = salary.replace('$', '') \n",
    "    salary = salary.replace(',', '')\n",
    "    salary = salary.replace('−', ' ')\n",
    "    \n",
    "    # Converts yearly salaries to floats and calculates the mean if a range\n",
    "    if salary.find('year') > -1:\n",
    "        numerise = [int(s) for s in salary.split() if s.isdigit()]\n",
    "        return np.mean(numerise)\n",
    "    \n",
    "    # Converts monthly salaries to floats, calculates the mean if a range and multiplies by 12\n",
    "    elif salary.find('month') > -1 :\n",
    "        get_digits = [int(s) for s in salary.split() if s.isdigit()]\n",
    "        return (np.mean(get_digits))*12\n",
    "    \n",
    "    # Converts weekly salaries to floats, calculates the mean if a range and multiplies by 52\n",
    "    elif salary.find('week') > -1 :\n",
    "        get_digits = [int(s) for s in salary.split() if s.isdigit()]\n",
    "        return (np.mean(get_digits))*52\n",
    "    # Converts weekly salaries to floats, calculates the mean if a range and multiplies by 240\n",
    "    \n",
    "    elif salary.find('day') > -1 :\n",
    "        get_digits = [int(s) for s in salary.split() if s.isdigit()]\n",
    "        return (np.mean(get_digits))*240\n",
    "    \n",
    "    elif salary.find('hour') > -1 :\n",
    "        get_digits = [int(s) for s in salary.split() if s.isdigit()]\n",
    "        return (np.mean(get_digits))*1920\n",
    "    "
   ]
  },
  {
   "cell_type": "code",
   "execution_count": 384,
   "metadata": {},
   "outputs": [
    {
     "name": "stderr",
     "output_type": "stream",
     "text": [
      "/Volumes/ravi/anaconda3/lib/python3.7/site-packages/numpy/core/fromnumeric.py:2920: RuntimeWarning: Mean of empty slice.\n",
      "  out=out, **kwargs)\n",
      "/Volumes/ravi/anaconda3/lib/python3.7/site-packages/numpy/core/_methods.py:85: RuntimeWarning: invalid value encountered in double_scalars\n",
      "  ret = ret.dtype.type(ret / rcount)\n"
     ]
    }
   ],
   "source": [
    "# Apply function to salary information\n",
    "df['salary'] = list(map(converter, df['salary']))"
   ]
  },
  {
   "cell_type": "code",
   "execution_count": 385,
   "metadata": {},
   "outputs": [
    {
     "data": {
      "text/html": [
       "<div>\n",
       "<style scoped>\n",
       "    .dataframe tbody tr th:only-of-type {\n",
       "        vertical-align: middle;\n",
       "    }\n",
       "\n",
       "    .dataframe tbody tr th {\n",
       "        vertical-align: top;\n",
       "    }\n",
       "\n",
       "    .dataframe thead th {\n",
       "        text-align: right;\n",
       "    }\n",
       "</style>\n",
       "<table border=\"1\" class=\"dataframe\">\n",
       "  <thead>\n",
       "    <tr style=\"text-align: right;\">\n",
       "      <th></th>\n",
       "      <th>index</th>\n",
       "      <th>title</th>\n",
       "      <th>company</th>\n",
       "      <th>location</th>\n",
       "      <th>summary</th>\n",
       "      <th>salary</th>\n",
       "    </tr>\n",
       "  </thead>\n",
       "  <tbody>\n",
       "    <tr>\n",
       "      <th>0</th>\n",
       "      <td>9</td>\n",
       "      <td>Senior Data Scientist</td>\n",
       "      <td>Algorithmic Trading Strategies Pty Ltd</td>\n",
       "      <td>melbourne</td>\n",
       "      <td>We are looking for an experienced Data Scienti...</td>\n",
       "      <td>190000.0</td>\n",
       "    </tr>\n",
       "    <tr>\n",
       "      <th>1</th>\n",
       "      <td>10</td>\n",
       "      <td>Data Scientist</td>\n",
       "      <td>Freelancer.com</td>\n",
       "      <td>melbourne</td>\n",
       "      <td>Proven experience as a data scientist or analy...</td>\n",
       "      <td>87500.0</td>\n",
       "    </tr>\n",
       "    <tr>\n",
       "      <th>2</th>\n",
       "      <td>12</td>\n",
       "      <td>Freelance Data Scientist</td>\n",
       "      <td>mOOvement</td>\n",
       "      <td>melbourne</td>\n",
       "      <td>Empowering cattle producers with real-time dat...</td>\n",
       "      <td>100000.0</td>\n",
       "    </tr>\n",
       "    <tr>\n",
       "      <th>3</th>\n",
       "      <td>17</td>\n",
       "      <td>Data Scientist/ Engineer</td>\n",
       "      <td>Quantexa</td>\n",
       "      <td>melbourne</td>\n",
       "      <td>Work very closely with data scientists to ensu...</td>\n",
       "      <td>82500.0</td>\n",
       "    </tr>\n",
       "    <tr>\n",
       "      <th>4</th>\n",
       "      <td>25</td>\n",
       "      <td>Data Scientist - Australian Market Leader</td>\n",
       "      <td>Datasii</td>\n",
       "      <td>melbourne</td>\n",
       "      <td>Due to continued growth in the Data Science te...</td>\n",
       "      <td>127500.0</td>\n",
       "    </tr>\n",
       "  </tbody>\n",
       "</table>\n",
       "</div>"
      ],
      "text/plain": [
       "   index                                      title  \\\n",
       "0      9                      Senior Data Scientist   \n",
       "1     10                             Data Scientist   \n",
       "2     12                   Freelance Data Scientist   \n",
       "3     17                   Data Scientist/ Engineer   \n",
       "4     25  Data Scientist - Australian Market Leader   \n",
       "\n",
       "                                  company   location  \\\n",
       "0  Algorithmic Trading Strategies Pty Ltd  melbourne   \n",
       "1                          Freelancer.com  melbourne   \n",
       "2                               mOOvement  melbourne   \n",
       "3                                Quantexa  melbourne   \n",
       "4                                 Datasii  melbourne   \n",
       "\n",
       "                                             summary    salary  \n",
       "0  We are looking for an experienced Data Scienti...  190000.0  \n",
       "1  Proven experience as a data scientist or analy...   87500.0  \n",
       "2  Empowering cattle producers with real-time dat...  100000.0  \n",
       "3  Work very closely with data scientists to ensu...   82500.0  \n",
       "4  Due to continued growth in the Data Science te...  127500.0  "
      ]
     },
     "execution_count": 385,
     "metadata": {},
     "output_type": "execute_result"
    }
   ],
   "source": [
    "df.head()"
   ]
  },
  {
   "cell_type": "code",
   "execution_count": 386,
   "metadata": {},
   "outputs": [
    {
     "data": {
      "text/plain": [
       "(152, 6)"
      ]
     },
     "execution_count": 386,
     "metadata": {},
     "output_type": "execute_result"
    }
   ],
   "source": [
    "df.shape"
   ]
  },
  {
   "cell_type": "code",
   "execution_count": 387,
   "metadata": {},
   "outputs": [
    {
     "data": {
      "text/plain": [
       "False    151\n",
       "True       1\n",
       "Name: salary, dtype: int64"
      ]
     },
     "execution_count": 387,
     "metadata": {},
     "output_type": "execute_result"
    }
   ],
   "source": [
    "df.salary.isnull().value_counts()"
   ]
  },
  {
   "cell_type": "code",
   "execution_count": 388,
   "metadata": {},
   "outputs": [],
   "source": [
    "#dropping rows with null values in salary column\n",
    "df.dropna(subset=['salary'], how='all', inplace = True)\n"
   ]
  },
  {
   "cell_type": "code",
   "execution_count": 389,
   "metadata": {},
   "outputs": [
    {
     "data": {
      "text/plain": [
       "0"
      ]
     },
     "execution_count": 389,
     "metadata": {},
     "output_type": "execute_result"
    }
   ],
   "source": [
    "df.salary.isnull().sum()"
   ]
  },
  {
   "cell_type": "markdown",
   "metadata": {},
   "source": [
    "Let's look at the cleaned salary information in more detail."
   ]
  },
  {
   "cell_type": "code",
   "execution_count": 391,
   "metadata": {},
   "outputs": [
    {
     "data": {
      "text/plain": [
       "count       151.000000\n",
       "mean     123873.854305\n",
       "std       44145.360336\n",
       "min       27300.000000\n",
       "25%      101625.000000\n",
       "50%      120000.000000\n",
       "75%      143250.000000\n",
       "max      300000.000000\n",
       "Name: salary, dtype: float64"
      ]
     },
     "execution_count": 391,
     "metadata": {},
     "output_type": "execute_result"
    }
   ],
   "source": [
    "df.salary.describe()"
   ]
  },
  {
   "cell_type": "markdown",
   "metadata": {},
   "source": [
    "We can see that the median is slightly higher than the mean which means that the distribution of the salaries will me positively skewed. We can plot the distribution below."
   ]
  },
  {
   "cell_type": "code",
   "execution_count": 446,
   "metadata": {},
   "outputs": [
    {
     "data": {
      "image/png": "[encoded data removed]",
      "text/plain": [
       "<Figure size 432x288 with 1 Axes>"
      ]
     },
     "metadata": {},
     "output_type": "display_data"
    }
   ],
   "source": [
    "ax = sns.distplot(df.salary,color = 'green')\n",
    "ax.set_title('Distribution of salaries\\n', size = 13)\n",
    "ax.set_ylabel('Count', size = 14)\n",
    "ax.set_xlabel('Salary', size = 30)\n",
    "ax.axvline(df.salary.mean(), color = 'blue', linewidth = 3)\n",
    "ax.axvline(df.salary.median(), color = 'red', linewidth = 3)\n",
    "ax.legend(['Median', 'Mean'])\n",
    "plt.xticks(rotation = 45)\n",
    "plt.show()"
   ]
  },
  {
   "cell_type": "markdown",
   "metadata": {},
   "source": [
    "Let's look at the average salaries for each of the cities that we identified for our scraping."
   ]
  },
  {
   "cell_type": "code",
   "execution_count": 449,
   "metadata": {},
   "outputs": [
    {
     "data": {
      "image/png": "[encoded data removed]",
      "text/plain": [
       "<Figure size 144x432 with 1 Axes>"
      ]
     },
     "metadata": {},
     "output_type": "display_data"
    }
   ],
   "source": [
    "# Grouping salary by city and calculating the mean salary\n",
    "mean_sal = df.groupby(['location'])['salary'].mean()\n",
    "\n",
    "# Sort the salaries in decending order\n",
    "#mean_sal.sort(ascending=False)\n",
    "\n",
    "# Plot a barchart\n",
    "fig=plt.figure(figsize=(2,6))\n",
    "ax = sns.barplot(x = mean_sal.index, y = mean_sal.values, palette = 'GnBu_d',color = 'blue')\n",
    "ax.set_title('Average salary per city\\n', size = 20)\n",
    "ax.set_ylabel('Average Salary', size = 16)\n",
    "ax.set_xlabel('City', size = 16)\n",
    "plt.xticks(rotation = 45)\n",
    "plt.show()"
   ]
  },
  {
   "cell_type": "markdown",
   "metadata": {},
   "source": [
    "from the above plot we can see that salaries are bit higher in sydney place"
   ]
  },
  {
   "cell_type": "markdown",
   "metadata": {},
   "source": [
    "## Modelling"
   ]
  },
  {
   "cell_type": "markdown",
   "metadata": {},
   "source": [
    "I want to predict a binary variable i.e. whether the salary was low or high."
   ]
  },
  {
   "cell_type": "markdown",
   "metadata": {},
   "source": [
    "For this I will need to calculate the median salary and create a new column that is 1** when the salary is high (above the median) and **0 when the salary is low (below the median)"
   ]
  },
  {
   "cell_type": "code",
   "execution_count": 400,
   "metadata": {},
   "outputs": [],
   "source": [
    "# The function will calculate a binary output of the salary\n",
    "def bin_salary(Salary):\n",
    "    \n",
    "    if Salary >= df.salary.median():\n",
    "        return 1\n",
    "    \n",
    "    else:  \n",
    "        return 0\n",
    "    \n",
    "\n",
    "# Create a new column in the dataframe and apply the binary function\n",
    "df['Salary_Class'] = df.salary.apply(bin_salary)"
   ]
  },
  {
   "cell_type": "code",
   "execution_count": 401,
   "metadata": {},
   "outputs": [
    {
     "name": "stdout",
     "output_type": "stream",
     "text": [
      "Baseline accuracy: 0.5165562913907285\n"
     ]
    }
   ],
   "source": [
    "print('Baseline accuracy:', np.mean(df.Salary_Class))"
   ]
  },
  {
   "cell_type": "markdown",
   "metadata": {},
   "source": [
    "### Logistic Regression using statsmodel"
   ]
  },
  {
   "cell_type": "markdown",
   "metadata": {},
   "source": [
    "I will use the location as the variable in my first model, the location column will need to be converted into categorical. This will serve as the base for future models.\n",
    "\n",
    "First I will look at the number salaries per city."
   ]
  },
  {
   "cell_type": "code",
   "execution_count": 402,
   "metadata": {},
   "outputs": [
    {
     "data": {
      "text/plain": [
       "sydney       120\n",
       "melbourne     31\n",
       "Name: location, dtype: int64"
      ]
     },
     "execution_count": 402,
     "metadata": {},
     "output_type": "execute_result"
    }
   ],
   "source": [
    "df.location.value_counts()"
   ]
  },
  {
   "cell_type": "markdown",
   "metadata": {},
   "source": [
    "The predicted baseline accuracy for the model is approx 50 percent. This is to be expected as the salaries have been split along the median and so half the salaries are below the median and half the salaries are above the median.\n",
    "\n"
   ]
  },
  {
   "cell_type": "code",
   "execution_count": 403,
   "metadata": {},
   "outputs": [],
   "source": [
    "# Create new variables representing the each city \n",
    "city_cat = pd.get_dummies(df.location, prefix='City')"
   ]
  },
  {
   "cell_type": "code",
   "execution_count": 404,
   "metadata": {},
   "outputs": [
    {
     "data": {
      "text/html": [
       "<div>\n",
       "<style scoped>\n",
       "    .dataframe tbody tr th:only-of-type {\n",
       "        vertical-align: middle;\n",
       "    }\n",
       "\n",
       "    .dataframe tbody tr th {\n",
       "        vertical-align: top;\n",
       "    }\n",
       "\n",
       "    .dataframe thead th {\n",
       "        text-align: right;\n",
       "    }\n",
       "</style>\n",
       "<table border=\"1\" class=\"dataframe\">\n",
       "  <thead>\n",
       "    <tr style=\"text-align: right;\">\n",
       "      <th></th>\n",
       "      <th>City_melbourne</th>\n",
       "      <th>City_sydney</th>\n",
       "    </tr>\n",
       "  </thead>\n",
       "  <tbody>\n",
       "    <tr>\n",
       "      <th>0</th>\n",
       "      <td>1</td>\n",
       "      <td>0</td>\n",
       "    </tr>\n",
       "    <tr>\n",
       "      <th>1</th>\n",
       "      <td>1</td>\n",
       "      <td>0</td>\n",
       "    </tr>\n",
       "    <tr>\n",
       "      <th>2</th>\n",
       "      <td>1</td>\n",
       "      <td>0</td>\n",
       "    </tr>\n",
       "    <tr>\n",
       "      <th>3</th>\n",
       "      <td>1</td>\n",
       "      <td>0</td>\n",
       "    </tr>\n",
       "    <tr>\n",
       "      <th>4</th>\n",
       "      <td>1</td>\n",
       "      <td>0</td>\n",
       "    </tr>\n",
       "    <tr>\n",
       "      <th>5</th>\n",
       "      <td>1</td>\n",
       "      <td>0</td>\n",
       "    </tr>\n",
       "    <tr>\n",
       "      <th>6</th>\n",
       "      <td>1</td>\n",
       "      <td>0</td>\n",
       "    </tr>\n",
       "    <tr>\n",
       "      <th>7</th>\n",
       "      <td>1</td>\n",
       "      <td>0</td>\n",
       "    </tr>\n",
       "    <tr>\n",
       "      <th>8</th>\n",
       "      <td>1</td>\n",
       "      <td>0</td>\n",
       "    </tr>\n",
       "    <tr>\n",
       "      <th>9</th>\n",
       "      <td>1</td>\n",
       "      <td>0</td>\n",
       "    </tr>\n",
       "    <tr>\n",
       "      <th>10</th>\n",
       "      <td>1</td>\n",
       "      <td>0</td>\n",
       "    </tr>\n",
       "    <tr>\n",
       "      <th>11</th>\n",
       "      <td>1</td>\n",
       "      <td>0</td>\n",
       "    </tr>\n",
       "    <tr>\n",
       "      <th>12</th>\n",
       "      <td>1</td>\n",
       "      <td>0</td>\n",
       "    </tr>\n",
       "    <tr>\n",
       "      <th>13</th>\n",
       "      <td>1</td>\n",
       "      <td>0</td>\n",
       "    </tr>\n",
       "    <tr>\n",
       "      <th>14</th>\n",
       "      <td>1</td>\n",
       "      <td>0</td>\n",
       "    </tr>\n",
       "    <tr>\n",
       "      <th>15</th>\n",
       "      <td>1</td>\n",
       "      <td>0</td>\n",
       "    </tr>\n",
       "    <tr>\n",
       "      <th>16</th>\n",
       "      <td>1</td>\n",
       "      <td>0</td>\n",
       "    </tr>\n",
       "    <tr>\n",
       "      <th>17</th>\n",
       "      <td>1</td>\n",
       "      <td>0</td>\n",
       "    </tr>\n",
       "    <tr>\n",
       "      <th>18</th>\n",
       "      <td>1</td>\n",
       "      <td>0</td>\n",
       "    </tr>\n",
       "    <tr>\n",
       "      <th>19</th>\n",
       "      <td>1</td>\n",
       "      <td>0</td>\n",
       "    </tr>\n",
       "    <tr>\n",
       "      <th>20</th>\n",
       "      <td>0</td>\n",
       "      <td>1</td>\n",
       "    </tr>\n",
       "    <tr>\n",
       "      <th>21</th>\n",
       "      <td>0</td>\n",
       "      <td>1</td>\n",
       "    </tr>\n",
       "    <tr>\n",
       "      <th>22</th>\n",
       "      <td>0</td>\n",
       "      <td>1</td>\n",
       "    </tr>\n",
       "    <tr>\n",
       "      <th>23</th>\n",
       "      <td>0</td>\n",
       "      <td>1</td>\n",
       "    </tr>\n",
       "    <tr>\n",
       "      <th>24</th>\n",
       "      <td>0</td>\n",
       "      <td>1</td>\n",
       "    </tr>\n",
       "    <tr>\n",
       "      <th>25</th>\n",
       "      <td>0</td>\n",
       "      <td>1</td>\n",
       "    </tr>\n",
       "    <tr>\n",
       "      <th>26</th>\n",
       "      <td>0</td>\n",
       "      <td>1</td>\n",
       "    </tr>\n",
       "    <tr>\n",
       "      <th>27</th>\n",
       "      <td>0</td>\n",
       "      <td>1</td>\n",
       "    </tr>\n",
       "    <tr>\n",
       "      <th>28</th>\n",
       "      <td>0</td>\n",
       "      <td>1</td>\n",
       "    </tr>\n",
       "    <tr>\n",
       "      <th>29</th>\n",
       "      <td>0</td>\n",
       "      <td>1</td>\n",
       "    </tr>\n",
       "    <tr>\n",
       "      <th>...</th>\n",
       "      <td>...</td>\n",
       "      <td>...</td>\n",
       "    </tr>\n",
       "    <tr>\n",
       "      <th>122</th>\n",
       "      <td>1</td>\n",
       "      <td>0</td>\n",
       "    </tr>\n",
       "    <tr>\n",
       "      <th>123</th>\n",
       "      <td>1</td>\n",
       "      <td>0</td>\n",
       "    </tr>\n",
       "    <tr>\n",
       "      <th>124</th>\n",
       "      <td>0</td>\n",
       "      <td>1</td>\n",
       "    </tr>\n",
       "    <tr>\n",
       "      <th>125</th>\n",
       "      <td>0</td>\n",
       "      <td>1</td>\n",
       "    </tr>\n",
       "    <tr>\n",
       "      <th>126</th>\n",
       "      <td>0</td>\n",
       "      <td>1</td>\n",
       "    </tr>\n",
       "    <tr>\n",
       "      <th>127</th>\n",
       "      <td>0</td>\n",
       "      <td>1</td>\n",
       "    </tr>\n",
       "    <tr>\n",
       "      <th>128</th>\n",
       "      <td>0</td>\n",
       "      <td>1</td>\n",
       "    </tr>\n",
       "    <tr>\n",
       "      <th>129</th>\n",
       "      <td>0</td>\n",
       "      <td>1</td>\n",
       "    </tr>\n",
       "    <tr>\n",
       "      <th>130</th>\n",
       "      <td>0</td>\n",
       "      <td>1</td>\n",
       "    </tr>\n",
       "    <tr>\n",
       "      <th>131</th>\n",
       "      <td>0</td>\n",
       "      <td>1</td>\n",
       "    </tr>\n",
       "    <tr>\n",
       "      <th>132</th>\n",
       "      <td>0</td>\n",
       "      <td>1</td>\n",
       "    </tr>\n",
       "    <tr>\n",
       "      <th>133</th>\n",
       "      <td>0</td>\n",
       "      <td>1</td>\n",
       "    </tr>\n",
       "    <tr>\n",
       "      <th>134</th>\n",
       "      <td>0</td>\n",
       "      <td>1</td>\n",
       "    </tr>\n",
       "    <tr>\n",
       "      <th>135</th>\n",
       "      <td>0</td>\n",
       "      <td>1</td>\n",
       "    </tr>\n",
       "    <tr>\n",
       "      <th>136</th>\n",
       "      <td>0</td>\n",
       "      <td>1</td>\n",
       "    </tr>\n",
       "    <tr>\n",
       "      <th>137</th>\n",
       "      <td>0</td>\n",
       "      <td>1</td>\n",
       "    </tr>\n",
       "    <tr>\n",
       "      <th>138</th>\n",
       "      <td>0</td>\n",
       "      <td>1</td>\n",
       "    </tr>\n",
       "    <tr>\n",
       "      <th>139</th>\n",
       "      <td>0</td>\n",
       "      <td>1</td>\n",
       "    </tr>\n",
       "    <tr>\n",
       "      <th>140</th>\n",
       "      <td>0</td>\n",
       "      <td>1</td>\n",
       "    </tr>\n",
       "    <tr>\n",
       "      <th>141</th>\n",
       "      <td>0</td>\n",
       "      <td>1</td>\n",
       "    </tr>\n",
       "    <tr>\n",
       "      <th>142</th>\n",
       "      <td>0</td>\n",
       "      <td>1</td>\n",
       "    </tr>\n",
       "    <tr>\n",
       "      <th>143</th>\n",
       "      <td>0</td>\n",
       "      <td>1</td>\n",
       "    </tr>\n",
       "    <tr>\n",
       "      <th>144</th>\n",
       "      <td>0</td>\n",
       "      <td>1</td>\n",
       "    </tr>\n",
       "    <tr>\n",
       "      <th>145</th>\n",
       "      <td>0</td>\n",
       "      <td>1</td>\n",
       "    </tr>\n",
       "    <tr>\n",
       "      <th>146</th>\n",
       "      <td>0</td>\n",
       "      <td>1</td>\n",
       "    </tr>\n",
       "    <tr>\n",
       "      <th>147</th>\n",
       "      <td>0</td>\n",
       "      <td>1</td>\n",
       "    </tr>\n",
       "    <tr>\n",
       "      <th>148</th>\n",
       "      <td>0</td>\n",
       "      <td>1</td>\n",
       "    </tr>\n",
       "    <tr>\n",
       "      <th>149</th>\n",
       "      <td>0</td>\n",
       "      <td>1</td>\n",
       "    </tr>\n",
       "    <tr>\n",
       "      <th>150</th>\n",
       "      <td>0</td>\n",
       "      <td>1</td>\n",
       "    </tr>\n",
       "    <tr>\n",
       "      <th>151</th>\n",
       "      <td>0</td>\n",
       "      <td>1</td>\n",
       "    </tr>\n",
       "  </tbody>\n",
       "</table>\n",
       "<p>151 rows × 2 columns</p>\n",
       "</div>"
      ],
      "text/plain": [
       "     City_melbourne  City_sydney\n",
       "0                 1            0\n",
       "1                 1            0\n",
       "2                 1            0\n",
       "3                 1            0\n",
       "4                 1            0\n",
       "5                 1            0\n",
       "6                 1            0\n",
       "7                 1            0\n",
       "8                 1            0\n",
       "9                 1            0\n",
       "10                1            0\n",
       "11                1            0\n",
       "12                1            0\n",
       "13                1            0\n",
       "14                1            0\n",
       "15                1            0\n",
       "16                1            0\n",
       "17                1            0\n",
       "18                1            0\n",
       "19                1            0\n",
       "20                0            1\n",
       "21                0            1\n",
       "22                0            1\n",
       "23                0            1\n",
       "24                0            1\n",
       "25                0            1\n",
       "26                0            1\n",
       "27                0            1\n",
       "28                0            1\n",
       "29                0            1\n",
       "..              ...          ...\n",
       "122               1            0\n",
       "123               1            0\n",
       "124               0            1\n",
       "125               0            1\n",
       "126               0            1\n",
       "127               0            1\n",
       "128               0            1\n",
       "129               0            1\n",
       "130               0            1\n",
       "131               0            1\n",
       "132               0            1\n",
       "133               0            1\n",
       "134               0            1\n",
       "135               0            1\n",
       "136               0            1\n",
       "137               0            1\n",
       "138               0            1\n",
       "139               0            1\n",
       "140               0            1\n",
       "141               0            1\n",
       "142               0            1\n",
       "143               0            1\n",
       "144               0            1\n",
       "145               0            1\n",
       "146               0            1\n",
       "147               0            1\n",
       "148               0            1\n",
       "149               0            1\n",
       "150               0            1\n",
       "151               0            1\n",
       "\n",
       "[151 rows x 2 columns]"
      ]
     },
     "execution_count": 404,
     "metadata": {},
     "output_type": "execute_result"
    }
   ],
   "source": [
    "# Look at the new location variables\n",
    "city_cat"
   ]
  },
  {
   "cell_type": "code",
   "execution_count": 405,
   "metadata": {},
   "outputs": [],
   "source": [
    "# Define target and feature set for modelling\n",
    "X = city_cat\n",
    "y = df.Salary_Class"
   ]
  },
  {
   "cell_type": "code",
   "execution_count": 406,
   "metadata": {},
   "outputs": [
    {
     "name": "stdout",
     "output_type": "stream",
     "text": [
      "Optimization terminated successfully.\n",
      "         Current function value: 0.692047\n",
      "         Iterations 3\n"
     ]
    }
   ],
   "source": [
    "# Define the model \n",
    "logit = sm.Logit(y, X)\n",
    "\n",
    "# Fit the model\n",
    "result = logit.fit()"
   ]
  },
  {
   "cell_type": "code",
   "execution_count": 407,
   "metadata": {},
   "outputs": [
    {
     "name": "stdout",
     "output_type": "stream",
     "text": [
      "                           Logit Regression Results                           \n",
      "==============================================================================\n",
      "Dep. Variable:           Salary_Class   No. Observations:                  151\n",
      "Model:                          Logit   Df Residuals:                      149\n",
      "Method:                           MLE   Df Model:                            1\n",
      "Date:                Sun, 17 Feb 2019   Pseudo R-squ.:               0.0007974\n",
      "Time:                        19:52:17   Log-Likelihood:                -104.50\n",
      "converged:                       True   LL-Null:                       -104.58\n",
      "                                        LLR p-value:                    0.6830\n",
      "==================================================================================\n",
      "                     coef    std err          z      P>|z|      [0.025      0.975]\n",
      "----------------------------------------------------------------------------------\n",
      "City_melbourne    -0.0645      0.359     -0.180      0.857      -0.769       0.640\n",
      "City_sydney        0.1001      0.183      0.547      0.584      -0.258       0.458\n",
      "==================================================================================\n"
     ]
    }
   ],
   "source": [
    "# Print the summary statistics for the model\n",
    "print(result.summary())"
   ]
  },
  {
   "cell_type": "markdown",
   "metadata": {},
   "source": [
    "## Odds Ratio"
   ]
  },
  {
   "cell_type": "markdown",
   "metadata": {},
   "source": [
    "By taking the exponential of each of the coefficients we can generate the odds ratios. These tells you how a 1 unit increase or decrease in a variable affects the odds of getting a higher or lower salary.\n",
    "\n",
    "This is a much easier to interept than looking at the coeffecients."
   ]
  },
  {
   "cell_type": "code",
   "execution_count": 408,
   "metadata": {},
   "outputs": [
    {
     "name": "stdout",
     "output_type": "stream",
     "text": [
      "City_sydney       1.105263\n",
      "City_melbourne    0.937500\n",
      "dtype: float64\n"
     ]
    }
   ],
   "source": [
    "# Calculate the exponential of the coeffecients and sort in decending order\n",
    "print(np.exp(result.params.sort_values(ascending = False)))"
   ]
  },
  {
   "cell_type": "markdown",
   "metadata": {},
   "source": [
    "From the odds ratios we can see that see the odds of getting a higher salary in  sydney is bit higher than melbourne"
   ]
  },
  {
   "cell_type": "markdown",
   "metadata": {},
   "source": [
    "## Creating new variables for the model"
   ]
  },
  {
   "cell_type": "markdown",
   "metadata": {},
   "source": [
    "Using the Jobs column I will look for key words in the job titles using Count Vectoriser, extracting them to create new feature variables."
   ]
  },
  {
   "cell_type": "code",
   "execution_count": 409,
   "metadata": {},
   "outputs": [],
   "source": [
    "from sklearn.feature_extraction.text import CountVectorizer"
   ]
  },
  {
   "cell_type": "code",
   "execution_count": 410,
   "metadata": {},
   "outputs": [],
   "source": [
    "cv = CountVectorizer(analyzer='word', max_features = 30, stop_words='english', ngram_range=(1,2))\n",
    "jobs = cv.fit_transform(df['title']).todense()\n",
    "job_dummies = pd.DataFrame(jobs, columns = cv.get_feature_names())"
   ]
  },
  {
   "cell_type": "code",
   "execution_count": 411,
   "metadata": {},
   "outputs": [
    {
     "data": {
      "text/plain": [
       "data                 148\n",
       "analyst               51\n",
       "scientist             51\n",
       "data scientist        51\n",
       "engineer              40\n",
       "data analyst          36\n",
       "senior                34\n",
       "senior data           27\n",
       "data engineer         23\n",
       "machine learning      15\n",
       "machine               15\n",
       "learning              15\n",
       "analyst data           9\n",
       "business               9\n",
       "learning engineer      8\n",
       "big                    8\n",
       "big data               8\n",
       "business analyst       7\n",
       "analytics              6\n",
       "scientist machine      6\n",
       "super                  5\n",
       "health                 5\n",
       "junior                 5\n",
       "junior data            5\n",
       "sydney                 5\n",
       "software               4\n",
       "credit                 4\n",
       "centre                 4\n",
       "data analytics         4\n",
       "leader                 4\n",
       "dtype: int64"
      ]
     },
     "execution_count": 411,
     "metadata": {},
     "output_type": "execute_result"
    }
   ],
   "source": [
    "job_dummies.sum().sort_values(ascending=False)"
   ]
  },
  {
   "cell_type": "code",
   "execution_count": 412,
   "metadata": {},
   "outputs": [],
   "source": [
    "# First I will change all of the job titles to lowercase to make searching through them easier\n",
    "df.title = df.title.apply(lambda x: x.lower())"
   ]
  },
  {
   "cell_type": "code",
   "execution_count": 413,
   "metadata": {},
   "outputs": [],
   "source": [
    "# Create new columns for each of the new feature variables\n",
    "# The colums will be 1 when the key word is found in job title and 0 if it isn't\n",
    "# Some key words can be represented in different spellings, I will search for all\n",
    "df['Job_Machine'] = df['title'].str.contains('|'.join(['machine','learning'])).astype(float)\n",
    "df['Job_Data_scientitst'] = df['title'].str.contains('|'.join(['data','scientist'])).astype(float)\n",
    "df['Job_Senior'] = df['title'].str.contains('|'.join(['senior', 'sr', 'sr.', 'lead'])).astype(float)\n",
    "df['Job+Assistant'] = df['title'].str.contains('assistant').astype(float)\n",
    "df['Job_Engineer'] = df['title'].str.contains('engineer').astype(float)\n",
    "df['Job_Data'] = df['title'].str.contains('data').astype(float)\n",
    "df['Job_Scientist'] = df['title'].str.contains('scientist').astype(float)\n",
    "df['Job_Analyst'] = df['title'].str.contains('analyst').astype(float)\n",
    "df['Job_Specialist'] = df['title'].str.contains('specialist').astype(float)\n",
    "df['Job_Manager'] = df['title'].str.contains('manager').astype(float)\n",
    "\n",
    "df['Job_Leader'] = df['title'].str.contains('leader').astype(float)\n",
    "\n",
    "\n",
    "df['Job_junior'] = df['title'].str.contains('junior').astype(float)"
   ]
  },
  {
   "cell_type": "code",
   "execution_count": 414,
   "metadata": {},
   "outputs": [],
   "source": [
    "# Define the new target and feature set for modelling\n",
    "X = pd.concat([city_cat, df.drop(['location', 'title', 'company', 'summary', # Join the previous city variables\n",
    "                                  'salary', 'Salary_Class'], axis = 1)], axis = 1) # and the new key word variables\n",
    "y = df.Salary_Class\n"
   ]
  },
  {
   "cell_type": "code",
   "execution_count": 415,
   "metadata": {},
   "outputs": [
    {
     "name": "stdout",
     "output_type": "stream",
     "text": [
      "Warning: Maximum number of iterations has been exceeded.\n",
      "         Current function value: 0.439376\n",
      "         Iterations: 35\n",
      "         Function evaluations: 40\n",
      "         Gradient evaluations: 40\n"
     ]
    },
    {
     "name": "stderr",
     "output_type": "stream",
     "text": [
      "/Volumes/ravi/anaconda3/lib/python3.7/site-packages/statsmodels/base/model.py:508: ConvergenceWarning: Maximum Likelihood optimization failed to converge. Check mle_retvals\n",
      "  \"Check mle_retvals\", ConvergenceWarning)\n"
     ]
    }
   ],
   "source": [
    "# Define the model \n",
    "logit = sm.Logit(y, X)\n",
    "result = logit.fit(method='bfgs')\n",
    "\n",
    "# Fit the model\n",
    "#result = logit.fit( )"
   ]
  },
  {
   "cell_type": "code",
   "execution_count": 416,
   "metadata": {},
   "outputs": [
    {
     "name": "stdout",
     "output_type": "stream",
     "text": [
      "                           Logit Regression Results                           \n",
      "==============================================================================\n",
      "Dep. Variable:           Salary_Class   No. Observations:                  151\n",
      "Model:                          Logit   Df Residuals:                      138\n",
      "Method:                           MLE   Df Model:                           12\n",
      "Date:                Sun, 17 Feb 2019   Pseudo R-squ.:                  0.3656\n",
      "Time:                        19:58:03   Log-Likelihood:                -66.346\n",
      "converged:                      False   LL-Null:                       -104.58\n",
      "                                        LLR p-value:                 1.933e-11\n",
      "=======================================================================================\n",
      "                          coef    std err          z      P>|z|      [0.025      0.975]\n",
      "---------------------------------------------------------------------------------------\n",
      "City_melbourne          0.3380      4.737      0.071      0.943      -8.947       9.623\n",
      "City_sydney             1.1454      4.721      0.243      0.808      -8.108      10.399\n",
      "index                   0.0034      0.002      2.021      0.043       0.000       0.007\n",
      "Job_Machine             3.6572      1.919      1.906      0.057      -0.104       7.419\n",
      "Job_Data_scientitst    -0.6383   3.92e+07  -1.63e-08      1.000   -7.69e+07    7.69e+07\n",
      "Job_Senior              2.5360      0.577      4.393      0.000       1.405       3.667\n",
      "Job+Assistant                0   3.61e+08          0      1.000   -7.08e+08    7.08e+08\n",
      "Job_Engineer           -1.4435      0.762     -1.894      0.058      -2.937       0.050\n",
      "Job_Data               -0.6383   3.92e+07  -1.63e-08      1.000   -7.69e+07    7.69e+07\n",
      "Job_Scientist          -0.4544      0.762     -0.596      0.551      -1.948       1.039\n",
      "Job_Analyst            -2.6016      0.792     -3.285      0.001      -4.154      -1.049\n",
      "Job_Specialist         -1.6601      2.159     -0.769      0.442      -5.892       2.572\n",
      "Job_Manager            -3.1597      2.186     -1.445      0.148      -7.445       1.125\n",
      "Job_Leader              1.2957      3.167      0.409      0.682      -4.911       7.502\n",
      "Job_junior             -2.8176      3.139     -0.898      0.369      -8.970       3.335\n",
      "=======================================================================================\n"
     ]
    }
   ],
   "source": [
    "print(result.summary())"
   ]
  },
  {
   "cell_type": "code",
   "execution_count": 417,
   "metadata": {},
   "outputs": [
    {
     "name": "stdout",
     "output_type": "stream",
     "text": [
      "Job_Machine            38.754283\n",
      "Job_Senior             12.629180\n",
      "Job_Leader              3.653460\n",
      "City_sydney             3.143799\n",
      "City_melbourne          1.402079\n",
      "index                   1.003406\n",
      "Job+Assistant           1.000000\n",
      "Job_Scientist           0.634827\n",
      "Job_Data_scientitst     0.528190\n",
      "Job_Data                0.528190\n",
      "Job_Engineer            0.236099\n",
      "Job_Specialist          0.190125\n",
      "Job_Analyst             0.074155\n",
      "Job_junior              0.059750\n",
      "Job_Manager             0.042438\n",
      "dtype: float64\n"
     ]
    }
   ],
   "source": [
    "# Calculate the exponential of the coeffecients and sort in decending order\n",
    "print(np.exp(result.params.sort_values(ascending = False)))"
   ]
  },
  {
   "cell_type": "markdown",
   "metadata": {},
   "source": [
    "As predicted, senior job titles (leader, Senior),machine have the highest odds of getting a higher salary.\n",
    "\n",
    "We also see that the ratios for sydney is higher than melbourne."
   ]
  },
  {
   "cell_type": "markdown",
   "metadata": {},
   "source": [
    "## Logistic Regression using sklearn"
   ]
  },
  {
   "cell_type": "markdown",
   "metadata": {},
   "source": [
    "Using the feature variables obtained from the location and Job columns let's look at Logistic Regression using sklean."
   ]
  },
  {
   "cell_type": "code",
   "execution_count": 418,
   "metadata": {},
   "outputs": [],
   "source": [
    "# Define the new target and feature set for modelling\n",
    "X = pd.concat([city_cat, df.drop(['location', 'title', 'company', 'summary', # Join the previous city variables\n",
    "                                  'salary', 'Salary_Class'], axis = 1)], axis = 1) # and the new key word variables\n",
    "y = df.Salary_Class\n"
   ]
  },
  {
   "cell_type": "code",
   "execution_count": 419,
   "metadata": {},
   "outputs": [
    {
     "name": "stderr",
     "output_type": "stream",
     "text": [
      "/Volumes/ravi/anaconda3/lib/python3.7/site-packages/sklearn/preprocessing/data.py:625: DataConversionWarning: Data with input dtype uint8, int64, float64 were all converted to float64 by StandardScaler.\n",
      "  return self.partial_fit(X, y)\n",
      "/Volumes/ravi/anaconda3/lib/python3.7/site-packages/sklearn/base.py:462: DataConversionWarning: Data with input dtype uint8, int64, float64 were all converted to float64 by StandardScaler.\n",
      "  return self.fit(X, **fit_params).transform(X)\n"
     ]
    }
   ],
   "source": [
    "# Define the scaler\n",
    "ss = StandardScaler()\n",
    "\n",
    "# Scaling the feature set\n",
    "Xs = ss.fit_transform(X)"
   ]
  },
  {
   "cell_type": "code",
   "execution_count": 480,
   "metadata": {
    "scrolled": true
   },
   "outputs": [
    {
     "name": "stderr",
     "output_type": "stream",
     "text": [
      "/Volumes/ravi/anaconda3/lib/python3.7/site-packages/sklearn/linear_model/logistic.py:433: FutureWarning: Default solver will be changed to 'lbfgs' in 0.22. Specify a solver to silence this warning.\n",
      "  FutureWarning)\n"
     ]
    },
    {
     "name": "stdout",
     "output_type": "stream",
     "text": [
      "Accuracy: 0.7880794701986755\n"
     ]
    },
    {
     "data": {
      "image/png": "[encoded data removed]",
      "text/plain": [
       "<Figure size 1152x432 with 1 Axes>"
      ]
     },
     "metadata": {},
     "output_type": "display_data"
    }
   ],
   "source": [
    "# Defining out model\n",
    "# Using the standard paramaeters of the model\n",
    "lr = LogisticRegression()\n",
    "\n",
    "# Fitting the model with our target and features\n",
    "model = lr.fit(Xs, y)\n",
    "# Determins preditions from the model and print the accuracy of the model\n",
    "predictions = model.predict(Xs)\n",
    "print('Accuracy:', accuracy_score(y, predictions))\n",
    "\n",
    "# Setting the feature importance to a variable\n",
    "feat_importance = model.coef_\n",
    "# Sorting the feature importance\n",
    "indices = np.argsort(np.absolute(feat_importance))\n",
    "\n",
    "# Plotting the feature importance\n",
    "plt.figure(figsize = (16, 6))\n",
    "plt.title(\"Feature importance\\n\", fontsize = 20)\n",
    "#colors = ['red' if c < 0 else 'blue' for c in ]\n",
    "plt.bar(range(Xs.shape[1]), feat_importance[0][indices][0][::-1], align=\"center\",color = 'g')\n",
    "\n",
    "\n",
    "plt.xticks(range(X.shape[1]), X.columns[indices][0][::-1], rotation=20)\n",
    "plt.xlim([-1, X.shape[1]])\n",
    "plt.show()"
   ]
  },
  {
   "cell_type": "code",
   "execution_count": 421,
   "metadata": {},
   "outputs": [
    {
     "data": {
      "text/html": [
       "<div>\n",
       "<style scoped>\n",
       "    .dataframe tbody tr th:only-of-type {\n",
       "        vertical-align: middle;\n",
       "    }\n",
       "\n",
       "    .dataframe tbody tr th {\n",
       "        vertical-align: top;\n",
       "    }\n",
       "\n",
       "    .dataframe thead th {\n",
       "        text-align: right;\n",
       "    }\n",
       "</style>\n",
       "<table border=\"1\" class=\"dataframe\">\n",
       "  <thead>\n",
       "    <tr style=\"text-align: right;\">\n",
       "      <th></th>\n",
       "      <th>Coeffecient value</th>\n",
       "      <th>Odds</th>\n",
       "    </tr>\n",
       "  </thead>\n",
       "  <tbody>\n",
       "    <tr>\n",
       "      <th>Job_Senior</th>\n",
       "      <td>1.000588</td>\n",
       "      <td>2.719882</td>\n",
       "    </tr>\n",
       "    <tr>\n",
       "      <th>Job_Machine</th>\n",
       "      <td>0.572943</td>\n",
       "      <td>1.773480</td>\n",
       "    </tr>\n",
       "    <tr>\n",
       "      <th>index</th>\n",
       "      <td>0.547164</td>\n",
       "      <td>1.728344</td>\n",
       "    </tr>\n",
       "    <tr>\n",
       "      <th>Job_Leader</th>\n",
       "      <td>0.333900</td>\n",
       "      <td>1.396403</td>\n",
       "    </tr>\n",
       "    <tr>\n",
       "      <th>City_sydney</th>\n",
       "      <td>0.141987</td>\n",
       "      <td>1.152561</td>\n",
       "    </tr>\n",
       "    <tr>\n",
       "      <th>Job+Assistant</th>\n",
       "      <td>0.000000</td>\n",
       "      <td>1.000000</td>\n",
       "    </tr>\n",
       "    <tr>\n",
       "      <th>Job_Scientist</th>\n",
       "      <td>-0.044931</td>\n",
       "      <td>0.956064</td>\n",
       "    </tr>\n",
       "    <tr>\n",
       "      <th>City_melbourne</th>\n",
       "      <td>-0.141987</td>\n",
       "      <td>0.867633</td>\n",
       "    </tr>\n",
       "    <tr>\n",
       "      <th>Job_Data_scientitst</th>\n",
       "      <td>-0.318388</td>\n",
       "      <td>0.727320</td>\n",
       "    </tr>\n",
       "    <tr>\n",
       "      <th>Job_Data</th>\n",
       "      <td>-0.318388</td>\n",
       "      <td>0.727320</td>\n",
       "    </tr>\n",
       "    <tr>\n",
       "      <th>Job_Specialist</th>\n",
       "      <td>-0.411402</td>\n",
       "      <td>0.662720</td>\n",
       "    </tr>\n",
       "    <tr>\n",
       "      <th>Job_Engineer</th>\n",
       "      <td>-0.479744</td>\n",
       "      <td>0.618942</td>\n",
       "    </tr>\n",
       "    <tr>\n",
       "      <th>Job_Manager</th>\n",
       "      <td>-0.521789</td>\n",
       "      <td>0.593458</td>\n",
       "    </tr>\n",
       "    <tr>\n",
       "      <th>Job_junior</th>\n",
       "      <td>-0.558823</td>\n",
       "      <td>0.571882</td>\n",
       "    </tr>\n",
       "    <tr>\n",
       "      <th>Job_Analyst</th>\n",
       "      <td>-1.016425</td>\n",
       "      <td>0.361886</td>\n",
       "    </tr>\n",
       "  </tbody>\n",
       "</table>\n",
       "</div>"
      ],
      "text/plain": [
       "                     Coeffecient value      Odds\n",
       "Job_Senior                    1.000588  2.719882\n",
       "Job_Machine                   0.572943  1.773480\n",
       "index                         0.547164  1.728344\n",
       "Job_Leader                    0.333900  1.396403\n",
       "City_sydney                   0.141987  1.152561\n",
       "Job+Assistant                 0.000000  1.000000\n",
       "Job_Scientist                -0.044931  0.956064\n",
       "City_melbourne               -0.141987  0.867633\n",
       "Job_Data_scientitst          -0.318388  0.727320\n",
       "Job_Data                     -0.318388  0.727320\n",
       "Job_Specialist               -0.411402  0.662720\n",
       "Job_Engineer                 -0.479744  0.618942\n",
       "Job_Manager                  -0.521789  0.593458\n",
       "Job_junior                   -0.558823  0.571882\n",
       "Job_Analyst                  -1.016425  0.361886"
      ]
     },
     "execution_count": 421,
     "metadata": {},
     "output_type": "execute_result"
    }
   ],
   "source": [
    "# Create a dataframe to display the odds ratio\n",
    "odds_ratio = pd.DataFrame(np.transpose(model.coef_), index = X.columns, columns = [\"Coeffecient value\"])\n",
    "# Create the odds colums by calculating the exponential of the coefficients\n",
    "odds_ratio[\"Odds\"] = odds_ratio[\"Coeffecient value\"].apply(np.exp)\n",
    "# Display the odds ratio\n",
    "odds_ratio.sort_values(by = 'Odds', ascending = False)"
   ]
  },
  {
   "cell_type": "markdown",
   "metadata": {},
   "source": [
    "The more senior job titles, machine learning and leader , the coeffcients are high"
   ]
  },
  {
   "cell_type": "markdown",
   "metadata": {},
   "source": [
    "## Cross-validation using sklearn"
   ]
  },
  {
   "cell_type": "markdown",
   "metadata": {},
   "source": [
    "Using cross-validation I will evaluate different metrics -\n",
    "\n",
    "Accuracy = (TP+TN)/total\n",
    "Precision = TP/(TP+FP)\n",
    "Recall = TP/(TP+FN)\n",
    "I will also plot a confusion matrix to understand these metrics better as well as a receiver operating characteristic (ROC) curve to look at the area under the curve (AUC)"
   ]
  },
  {
   "cell_type": "code",
   "execution_count": 422,
   "metadata": {},
   "outputs": [
    {
     "name": "stdout",
     "output_type": "stream",
     "text": [
      "accuracy : 0.7085650723025584\n",
      "precision : 0.8253968253968255\n",
      "recall : 0.6599999999999999\n"
     ]
    }
   ],
   "source": [
    "# List the metrics for evaluation\n",
    "metrics = ['accuracy', 'precision', 'recall']\n",
    "\n",
    "# Define the model \n",
    "# Using L2 regularisation and 5-fold cross-validation\n",
    "lg = LogisticRegressionCV(penalty = 'l2', cv = 5, solver = 'liblinear') \n",
    "\n",
    "# Loop through the different metrics and print the mean of the metric after the 5-fold cross-validation\n",
    "for metric in metrics:\n",
    "    \n",
    "    scores = cross_val_score(lg, Xs, y, scoring = metric, cv = 5)\n",
    "    \n",
    "    print(metric, ':' , scores.mean())"
   ]
  },
  {
   "cell_type": "code",
   "execution_count": 423,
   "metadata": {},
   "outputs": [],
   "source": [
    "# Define a function for plotting confusion matrix\n",
    "def plot_confusion_matrix(cm, classes, title='Confusion matrix for high/low salaries\\n', cmap=plt.cm.Blues):\n",
    "    plt.imshow(cm, interpolation='nearest', cmap=cmap)\n",
    "    plt.title(title)\n",
    "    plt.colorbar()\n",
    "    tick_marks = np.arange(len(classes))\n",
    "    plt.xticks(tick_marks, classes, rotation=45)\n",
    "    plt.yticks(tick_marks, classes)\n",
    "    thresh = cm.max() / 2.\n",
    "    for i, j in itertools.product(range(cm.shape[0]), range(cm.shape[1])):\n",
    "        plt.text(j, i, cm[i, j],\n",
    "                 horizontalalignment=\"center\",\n",
    "                 color=\"white\" if cm[i, j] > thresh else \"black\")\n",
    "    plt.ylabel('True salary')\n",
    "    plt.xlabel('Predicted salary')\n",
    "    plt.show()\n",
    "    return"
   ]
  },
  {
   "cell_type": "code",
   "execution_count": 424,
   "metadata": {},
   "outputs": [],
   "source": [
    "import itertools"
   ]
  },
  {
   "cell_type": "code",
   "execution_count": 484,
   "metadata": {},
   "outputs": [
    {
     "data": {
      "image/png": "[encoded data removed]",
      "text/plain": [
       "<Figure size 432x288 with 2 Axes>"
      ]
     },
     "metadata": {},
     "output_type": "display_data"
    }
   ],
   "source": [
    "# Plot confusion matrix\n",
    "cnf_matrix = confusion_matrix(y, model.predict(Xs))\n",
    "plot_confusion_matrix(cnf_matrix, classes= ['Low', 'High'])"
   ]
  },
  {
   "cell_type": "code",
   "execution_count": 426,
   "metadata": {},
   "outputs": [
    {
     "data": {
      "image/png": "[encoded data removed]",
      "text/plain": [
       "<Figure size 432x432 with 1 Axes>"
      ]
     },
     "metadata": {},
     "output_type": "display_data"
    }
   ],
   "source": [
    "# Plot ROC curve\n",
    "FPR, TPR, THR = roc_curve(y, model.predict_proba(Xs)[:,1])\n",
    "ROC_AUC = auc(FPR, TPR)\n",
    "\n",
    "plt.figure(figsize=[6,6])\n",
    "plt.plot(FPR, TPR, label='ROC curve (area = %0.2f)' % ROC_AUC, linewidth = 4)\n",
    "plt.plot([0, 1], [0, 1], 'k--', linewidth=4)\n",
    "plt.xlim([0.0, 1.0])\n",
    "plt.ylim([0.0, 1.05])\n",
    "plt.xlabel('False Positive Rate', fontsize=16)\n",
    "plt.ylabel('True Positive Rate ', fontsize=16)\n",
    "plt.title('ROC curve \\n', fontsize=20)\n",
    "plt.legend(loc=\"lower right\")\n",
    "plt.show()"
   ]
  },
  {
   "cell_type": "markdown",
   "metadata": {},
   "source": [
    "The accuracy answers the question - Overall, how often is the classifier correct?\n",
    "\n",
    "- For this model the accuracy score was 0.70 which is higher than the baseline accuracy for the model. This means that model is better at predicting high salaries than random choice \n",
    "The precision answers the question - When it predicts yes, how often is it correct?\n",
    "\n",
    "- The score for the precision on this model was ~0.82\n",
    "The recall answers the question - When it's actually yes, how often does it predict yes?\n",
    "\n",
    "- The score for the recall on this model was 0.65, which is not very similar to the precision"
   ]
  },
  {
   "cell_type": "markdown",
   "metadata": {},
   "source": [
    "Comparison of L1 and L2 regularization for this logistic regression model"
   ]
  },
  {
   "cell_type": "markdown",
   "metadata": {},
   "source": [
    "I will calculate the logistic regression for L1 and L2 penalties and compare the effect this has on the coeffecients."
   ]
  },
  {
   "cell_type": "markdown",
   "metadata": {},
   "source": [
    "L1 regularisation - Lasso"
   ]
  },
  {
   "cell_type": "code",
   "execution_count": 427,
   "metadata": {},
   "outputs": [
    {
     "data": {
      "text/plain": [
       "LogisticRegression(C=1.0, class_weight=None, dual=False, fit_intercept=True,\n",
       "          intercept_scaling=1, max_iter=100, multi_class='warn',\n",
       "          n_jobs=None, penalty='l1', random_state=None, solver='liblinear',\n",
       "          tol=0.0001, verbose=0, warm_start=False)"
      ]
     },
     "execution_count": 427,
     "metadata": {},
     "output_type": "execute_result"
    }
   ],
   "source": [
    "# Define the model \n",
    "# Using L1 regularisation and solver = liblinear as this is better for smaller datasets\n",
    "lg1 = LogisticRegression(penalty = 'l1', solver = 'liblinear')\n",
    "\n",
    "# Fit the model with our target and features\n",
    "lg1.fit(Xs, y)"
   ]
  },
  {
   "cell_type": "code",
   "execution_count": 428,
   "metadata": {},
   "outputs": [
    {
     "name": "stdout",
     "output_type": "stream",
     "text": [
      "accuracy : 0.6754171301446051\n",
      "precision : 0.7610012210012209\n",
      "recall : 0.6325000000000001\n"
     ]
    }
   ],
   "source": [
    "# List the metrics for evaluation again\n",
    "metrics = ['accuracy', 'precision', 'recall']\n",
    "\n",
    "# Loop through the different metrics and print the mean of the metric after the 5-fold cross-validation\n",
    "for metric in metrics:\n",
    "    \n",
    "    scores = cross_val_score(lg1, Xs, y, scoring = metric, cv = 5)\n",
    "    \n",
    "    print(metric, ':' , scores.mean())"
   ]
  },
  {
   "cell_type": "code",
   "execution_count": 490,
   "metadata": {},
   "outputs": [
    {
     "data": {
      "image/png": "[encoded data removed]",
      "text/plain": [
       "<Figure size 432x288 with 2 Axes>"
      ]
     },
     "metadata": {},
     "output_type": "display_data"
    }
   ],
   "source": [
    "# Plot confusion matrix\n",
    "cnf_matrix = confusion_matrix(y, lg1.predict(Xs))\n",
    "plot_confusion_matrix(cnf_matrix, classes= ['Low', 'High'])\n"
   ]
  },
  {
   "cell_type": "code",
   "execution_count": 430,
   "metadata": {},
   "outputs": [
    {
     "data": {
      "image/png": "[encoded data removed]",
      "text/plain": [
       "<Figure size 432x432 with 1 Axes>"
      ]
     },
     "metadata": {},
     "output_type": "display_data"
    }
   ],
   "source": [
    "# Plot ROC curve\n",
    "FPR, TPR, THR = roc_curve(y, lg1.predict_proba(Xs)[:,1])\n",
    "ROC_AUC = auc(FPR, TPR)\n",
    "\n",
    "plt.figure(figsize=[6,6])\n",
    "plt.plot(FPR, TPR, label='ROC curve (area = %0.2f)' % ROC_AUC, linewidth = 4)\n",
    "plt.plot([0, 1], [0, 1], 'k--', linewidth=4)\n",
    "plt.xlim([0.0, 1.0])\n",
    "plt.ylim([0.0, 1.05])\n",
    "plt.xlabel('False Positive Rate', fontsize=16)\n",
    "plt.ylabel('True Positive Rate ', fontsize=16)\n",
    "plt.title('ROC curve \\n', fontsize=20)\n",
    "plt.legend(loc=\"lower right\")\n",
    "plt.show()"
   ]
  },
  {
   "cell_type": "code",
   "execution_count": 491,
   "metadata": {},
   "outputs": [
    {
     "data": {
      "image/png": "[encoded data removed]",
      "text/plain": [
       "<Figure size 1152x432 with 1 Axes>"
      ]
     },
     "metadata": {},
     "output_type": "display_data"
    }
   ],
   "source": [
    "# Setting the feature importance to a variable\n",
    "feat_importance = lg1.coef_\n",
    "# Sorting the feature importance\n",
    "indices = np.argsort(np.absolute(feat_importance))\n",
    "\n",
    "# Plotting the feature importance\n",
    "plt.figure(figsize = (16, 6))\n",
    "plt.title(\"Feature importance for Lasso\\n\", fontsize = 20)\n",
    "plt.bar(range(Xs.shape[1]), feat_importance[0][indices][0][::-1], align=\"center\",color = 'blue')\n",
    "plt.ylabel('Feature coefficient', size = 16)\n",
    "plt.xlabel('Feature variables', size = 16)\n",
    "plt.xticks(range(X.shape[1]), X.columns[indices][0][::-1], rotation=45)\n",
    "plt.xlim([-1, X.shape[1]])\n",
    "plt.show()"
   ]
  },
  {
   "cell_type": "markdown",
   "metadata": {},
   "source": [
    "## L2 regularisation - Ridge"
   ]
  },
  {
   "cell_type": "code",
   "execution_count": 432,
   "metadata": {},
   "outputs": [
    {
     "data": {
      "text/plain": [
       "LogisticRegression(C=1.0, class_weight=None, dual=False, fit_intercept=True,\n",
       "          intercept_scaling=1, max_iter=100, multi_class='warn',\n",
       "          n_jobs=None, penalty='l2', random_state=None, solver='liblinear',\n",
       "          tol=0.0001, verbose=0, warm_start=False)"
      ]
     },
     "execution_count": 432,
     "metadata": {},
     "output_type": "execute_result"
    }
   ],
   "source": [
    "# Define the model \n",
    "# Using L2 regularisation and solver = liblinear as this is better for smaller datasets\n",
    "lg2 = LogisticRegression(penalty = 'l2', solver = 'liblinear')\n",
    "\n",
    "# Fit the model with our target and features\n",
    "lg2.fit(Xs, y)"
   ]
  },
  {
   "cell_type": "markdown",
   "metadata": {},
   "source": [
    "## L2 regularisation metrics"
   ]
  },
  {
   "cell_type": "code",
   "execution_count": 433,
   "metadata": {},
   "outputs": [
    {
     "name": "stdout",
     "output_type": "stream",
     "text": [
      "accuracy : 0.6625139043381536\n",
      "precision : 0.7425396825396826\n",
      "recall : 0.6325000000000001\n"
     ]
    }
   ],
   "source": [
    "# List the metrics for evaluation again\n",
    "metrics = ['accuracy', 'precision', 'recall']\n",
    "\n",
    "# Loop through the different metrics and print the mean of the metric after the 5-fold cross-validation\n",
    "for metric in metrics:\n",
    "    \n",
    "    scores = cross_val_score(lg2, Xs, y, scoring = metric, cv = 5)\n",
    "    \n",
    "    print(metric, ':' , scores.mean())"
   ]
  },
  {
   "cell_type": "code",
   "execution_count": 434,
   "metadata": {},
   "outputs": [
    {
     "data": {
      "image/png": "[encoded data removed]",
      "text/plain": [
       "<Figure size 432x288 with 2 Axes>"
      ]
     },
     "metadata": {},
     "output_type": "display_data"
    }
   ],
   "source": [
    "# Plot confusion matrix\n",
    "cnf_matrix = confusion_matrix(y, lg2.predict(Xs))\n",
    "plot_confusion_matrix(cnf_matrix, classes= ['Low', 'High'])"
   ]
  },
  {
   "cell_type": "code",
   "execution_count": 435,
   "metadata": {},
   "outputs": [
    {
     "data": {
      "image/png": "[encoded data removed]",
      "text/plain": [
       "<Figure size 432x432 with 1 Axes>"
      ]
     },
     "metadata": {},
     "output_type": "display_data"
    }
   ],
   "source": [
    "# Plot ROC curve\n",
    "FPR, TPR, THR = roc_curve(y, lg2.predict_proba(Xs)[:,1])\n",
    "ROC_AUC = auc(FPR, TPR)\n",
    "\n",
    "plt.figure(figsize=[6,6])\n",
    "plt.plot(FPR, TPR, label='ROC curve (area = %0.2f)' % ROC_AUC, linewidth = 4)\n",
    "plt.plot([0, 1], [0, 1], 'k--', linewidth=4)\n",
    "plt.xlim([0.0, 1.0])\n",
    "plt.ylim([0.0, 1.05])\n",
    "plt.xlabel('False Positive Rate', fontsize=16)\n",
    "plt.ylabel('True Positive Rate ', fontsize=16)\n",
    "plt.title('ROC curve \\n', fontsize=20)\n",
    "plt.legend(loc=\"lower right\")\n",
    "plt.show()"
   ]
  },
  {
   "cell_type": "code",
   "execution_count": 492,
   "metadata": {},
   "outputs": [
    {
     "data": {
      "image/png": "[encoded data removed]",
      "text/plain": [
       "<Figure size 1152x432 with 1 Axes>"
      ]
     },
     "metadata": {},
     "output_type": "display_data"
    }
   ],
   "source": [
    "# Setting the feature importance to a variable\n",
    "feat_importance = lg2.coef_\n",
    "# Sorting the feature importance\n",
    "indices = np.argsort(np.absolute(feat_importance))\n",
    "\n",
    "# Plotting the feature importance\n",
    "plt.figure(figsize = (16, 6))\n",
    "plt.title(\"Feature importance for Ridge\\n\", fontsize = 20)\n",
    "plt.bar(range(Xs.shape[1]), feat_importance[0][indices][0][::-1], align=\"center\",color = 'red')\n",
    "plt.ylabel('Feature coefficient', size = 16)\n",
    "plt.xlabel('Feature variables', size = 16)\n",
    "plt.xticks(range(X.shape[1]), X.columns[indices][0][::-1], rotation=45)\n",
    "plt.xlim([-1, X.shape[1]])\n",
    "plt.show()"
   ]
  },
  {
   "cell_type": "markdown",
   "metadata": {},
   "source": [
    "Comparing L1 and L2 coeffecients"
   ]
  },
  {
   "cell_type": "code",
   "execution_count": 437,
   "metadata": {},
   "outputs": [
    {
     "data": {
      "text/html": [
       "<div>\n",
       "<style scoped>\n",
       "    .dataframe tbody tr th:only-of-type {\n",
       "        vertical-align: middle;\n",
       "    }\n",
       "\n",
       "    .dataframe tbody tr th {\n",
       "        vertical-align: top;\n",
       "    }\n",
       "\n",
       "    .dataframe thead th {\n",
       "        text-align: right;\n",
       "    }\n",
       "</style>\n",
       "<table border=\"1\" class=\"dataframe\">\n",
       "  <thead>\n",
       "    <tr style=\"text-align: right;\">\n",
       "      <th></th>\n",
       "      <th>Lasso (l1)</th>\n",
       "      <th>Ridge (l2)</th>\n",
       "    </tr>\n",
       "  </thead>\n",
       "  <tbody>\n",
       "    <tr>\n",
       "      <th>City_melbourne</th>\n",
       "      <td>-0.218571</td>\n",
       "      <td>-0.141987</td>\n",
       "    </tr>\n",
       "    <tr>\n",
       "      <th>City_sydney</th>\n",
       "      <td>0.022546</td>\n",
       "      <td>0.141987</td>\n",
       "    </tr>\n",
       "    <tr>\n",
       "      <th>index</th>\n",
       "      <td>0.514984</td>\n",
       "      <td>0.547164</td>\n",
       "    </tr>\n",
       "    <tr>\n",
       "      <th>Job_Machine</th>\n",
       "      <td>0.531830</td>\n",
       "      <td>0.572943</td>\n",
       "    </tr>\n",
       "    <tr>\n",
       "      <th>Job_Data_scientitst</th>\n",
       "      <td>-0.076795</td>\n",
       "      <td>-0.318388</td>\n",
       "    </tr>\n",
       "    <tr>\n",
       "      <th>Job_Senior</th>\n",
       "      <td>0.994954</td>\n",
       "      <td>1.000588</td>\n",
       "    </tr>\n",
       "    <tr>\n",
       "      <th>Job+Assistant</th>\n",
       "      <td>0.000000</td>\n",
       "      <td>0.000000</td>\n",
       "    </tr>\n",
       "    <tr>\n",
       "      <th>Job_Engineer</th>\n",
       "      <td>-0.401645</td>\n",
       "      <td>-0.479744</td>\n",
       "    </tr>\n",
       "    <tr>\n",
       "      <th>Job_Data</th>\n",
       "      <td>-0.290840</td>\n",
       "      <td>-0.318388</td>\n",
       "    </tr>\n",
       "    <tr>\n",
       "      <th>Job_Scientist</th>\n",
       "      <td>0.000000</td>\n",
       "      <td>-0.044931</td>\n",
       "    </tr>\n",
       "    <tr>\n",
       "      <th>Job_Analyst</th>\n",
       "      <td>-0.954820</td>\n",
       "      <td>-1.016425</td>\n",
       "    </tr>\n",
       "    <tr>\n",
       "      <th>Job_Specialist</th>\n",
       "      <td>-0.275376</td>\n",
       "      <td>-0.411402</td>\n",
       "    </tr>\n",
       "    <tr>\n",
       "      <th>Job_Manager</th>\n",
       "      <td>-0.428852</td>\n",
       "      <td>-0.521789</td>\n",
       "    </tr>\n",
       "    <tr>\n",
       "      <th>Job_Leader</th>\n",
       "      <td>0.142877</td>\n",
       "      <td>0.333900</td>\n",
       "    </tr>\n",
       "    <tr>\n",
       "      <th>Job_junior</th>\n",
       "      <td>-0.467837</td>\n",
       "      <td>-0.558823</td>\n",
       "    </tr>\n",
       "  </tbody>\n",
       "</table>\n",
       "</div>"
      ],
      "text/plain": [
       "                     Lasso (l1)  Ridge (l2)\n",
       "City_melbourne        -0.218571   -0.141987\n",
       "City_sydney            0.022546    0.141987\n",
       "index                  0.514984    0.547164\n",
       "Job_Machine            0.531830    0.572943\n",
       "Job_Data_scientitst   -0.076795   -0.318388\n",
       "Job_Senior             0.994954    1.000588\n",
       "Job+Assistant          0.000000    0.000000\n",
       "Job_Engineer          -0.401645   -0.479744\n",
       "Job_Data              -0.290840   -0.318388\n",
       "Job_Scientist          0.000000   -0.044931\n",
       "Job_Analyst           -0.954820   -1.016425\n",
       "Job_Specialist        -0.275376   -0.411402\n",
       "Job_Manager           -0.428852   -0.521789\n",
       "Job_Leader             0.142877    0.333900\n",
       "Job_junior            -0.467837   -0.558823"
      ]
     },
     "execution_count": 437,
     "metadata": {},
     "output_type": "execute_result"
    }
   ],
   "source": [
    "# Create a dataframe to display the l1 and l2 coeffecients\n",
    "comparison = pd.DataFrame(np.transpose(lg1.coef_), index = X.columns, columns = [\"Lasso (l1)\"])\n",
    "# Add the l2 coeffecient values to the dataframe\n",
    "comparison['Ridge (l2)'] = lg2.coef_[0]\n",
    "# Display the comparison\n",
    "comparison"
   ]
  },
  {
   "cell_type": "markdown",
   "metadata": {},
   "source": [
    "Comparing L1 and L2 regularisation, there is definite shrinkage in the coefficient values from the previous two models, statsmodel and sklearn. Senior, engineer and data key words from the job titles come in highest for both l1 and l2.\n",
    "Looking at the the accuracy, precision and recall metrics for l1 and l2 we can see that they have improved the previous models"
   ]
  },
  {
   "cell_type": "code",
   "execution_count": null,
   "metadata": {},
   "outputs": [],
   "source": []
  },
  {
   "cell_type": "markdown",
   "metadata": {},
   "source": [
    "## BONUS"
   ]
  },
  {
   "cell_type": "markdown",
   "metadata": {},
   "source": [
    "Using Count Vectorizer to create features from the text summaries."
   ]
  },
  {
   "cell_type": "code",
   "execution_count": 325,
   "metadata": {},
   "outputs": [],
   "source": [
    "# Using Countvectorize on the Summary, taking out common words with a maximum word length 2 \n",
    "# and max number of features as 5\n",
    "cv = CountVectorizer(stop_words = 'english', max_features = 10, ngram_range = (1, 4), binary=True)\n",
    "top_words = cv.fit_transform(df.summary).todense()"
   ]
  },
  {
   "cell_type": "code",
   "execution_count": 326,
   "metadata": {},
   "outputs": [
    {
     "name": "stdout",
     "output_type": "stream",
     "text": [
      "The top 10 words are:\n",
      " Index(['analyst', 'business', 'data', 'data analyst', 'data scientist',\n",
      "       'experience', 'scientist', 'senior', 'team', 'working'],\n",
      "      dtype='object')\n"
     ]
    }
   ],
   "source": [
    "# Create a dataframe from the top\n",
    "top_words = pd.DataFrame(top_words, columns=cv.get_feature_names())\n",
    "print('The top 10 words are:\\n', top_words.columns.unique())"
   ]
  },
  {
   "cell_type": "code",
   "execution_count": 327,
   "metadata": {},
   "outputs": [],
   "source": [
    "# First I will change all of the summary to lowercase to make searching through them easier\n",
    "df.summary = df.summary.apply(lambda x: x.lower())"
   ]
  },
  {
   "cell_type": "code",
   "execution_count": 328,
   "metadata": {},
   "outputs": [],
   "source": [
    "# Create new columns for each of the new feature variables\n",
    "# The colums will be 1 when the key word is found in job title and 0 if it isn't\n",
    "# Some key words can be represented in different spellings, I will search for all\n",
    "df['Job_business'] = df['summary'].str.contains('business').astype(float)\n",
    "df['Job_Senior'] = df['summary'].str.contains('|'.join(['senior', 'sr', 'sr.', 'lead'])).astype(float)\n",
    "df['data_scientist'] = df['summary'].str.contains('|'.join(['data', 'scientist'])).astype(float)\n",
    "df['Job_experience'] = df['summary'].str.contains('experience').astype(float)\n",
    "df['Job_Data'] = df['summary'].str.contains('data').astype(float)\n",
    "df['Job_Scientist'] = df['summary'].str.contains('scientist').astype(float)\n",
    "df['summary_Analyst'] = df['summary'].str.contains('analyst').astype(float)\n",
    "df['Job_Specialist'] = df['summary'].str.contains('|'.join(['data', 'analyst'])).astype(float)\n",
    "df['Job_join'] = df['summary'].str.contains('join').astype(float)\n",
    "df['Job_team'] = df['summary'].str.contains('team').astype(float)"
   ]
  },
  {
   "cell_type": "code",
   "execution_count": null,
   "metadata": {},
   "outputs": [],
   "source": []
  },
  {
   "cell_type": "code",
   "execution_count": 329,
   "metadata": {},
   "outputs": [],
   "source": [
    "# Redefine the target and predictor variables\n",
    "X = pd.concat([top_words, city_cat, df.drop(['location', 'title', 'company', 'summary', # Join the previous city variables\n",
    "                                  'salary', 'Salary_Class'], axis = 1)], axis = 1) # and the new key word variables\n",
    "y = df.Salary_Class"
   ]
  },
  {
   "cell_type": "code",
   "execution_count": 330,
   "metadata": {},
   "outputs": [
    {
     "ename": "ValueError",
     "evalue": "Input contains NaN, infinity or a value too large for dtype('float64').",
     "output_type": "error",
     "traceback": [
      "\u001b[0;31m---------------------------------------------------------------------------\u001b[0m",
      "\u001b[0;31mValueError\u001b[0m                                Traceback (most recent call last)",
      "\u001b[0;32m<ipython-input-330-52316cc11af6>\u001b[0m in \u001b[0;36m<module>\u001b[0;34m\u001b[0m\n\u001b[1;32m      4\u001b[0m \u001b[0;34m\u001b[0m\u001b[0m\n\u001b[1;32m      5\u001b[0m \u001b[0;31m# Fit the model with our target and features\u001b[0m\u001b[0;34m\u001b[0m\u001b[0;34m\u001b[0m\u001b[0;34m\u001b[0m\u001b[0m\n\u001b[0;32m----> 6\u001b[0;31m \u001b[0mlr\u001b[0m\u001b[0;34m.\u001b[0m\u001b[0mfit\u001b[0m\u001b[0;34m(\u001b[0m\u001b[0mXs\u001b[0m\u001b[0;34m,\u001b[0m \u001b[0my\u001b[0m\u001b[0;34m)\u001b[0m\u001b[0;34m\u001b[0m\u001b[0;34m\u001b[0m\u001b[0m\n\u001b[0m\u001b[1;32m      7\u001b[0m \u001b[0;34m\u001b[0m\u001b[0m\n\u001b[1;32m      8\u001b[0m \u001b[0;32mfor\u001b[0m \u001b[0mmetric\u001b[0m \u001b[0;32min\u001b[0m \u001b[0mmetrics\u001b[0m\u001b[0;34m:\u001b[0m\u001b[0;34m\u001b[0m\u001b[0;34m\u001b[0m\u001b[0m\n",
      "\u001b[0;32m/Volumes/ravi/anaconda3/lib/python3.7/site-packages/sklearn/linear_model/logistic.py\u001b[0m in \u001b[0;36mfit\u001b[0;34m(self, X, y, sample_weight)\u001b[0m\n\u001b[1;32m   1712\u001b[0m         X, y = check_X_y(X, y, accept_sparse='csr', dtype=np.float64,\n\u001b[1;32m   1713\u001b[0m                          \u001b[0morder\u001b[0m\u001b[0;34m=\u001b[0m\u001b[0;34m\"C\"\u001b[0m\u001b[0;34m,\u001b[0m\u001b[0;34m\u001b[0m\u001b[0;34m\u001b[0m\u001b[0m\n\u001b[0;32m-> 1714\u001b[0;31m                          accept_large_sparse=solver != 'liblinear')\n\u001b[0m\u001b[1;32m   1715\u001b[0m         \u001b[0mcheck_classification_targets\u001b[0m\u001b[0;34m(\u001b[0m\u001b[0my\u001b[0m\u001b[0;34m)\u001b[0m\u001b[0;34m\u001b[0m\u001b[0;34m\u001b[0m\u001b[0m\n\u001b[1;32m   1716\u001b[0m \u001b[0;34m\u001b[0m\u001b[0m\n",
      "\u001b[0;32m/Volumes/ravi/anaconda3/lib/python3.7/site-packages/sklearn/utils/validation.py\u001b[0m in \u001b[0;36mcheck_X_y\u001b[0;34m(X, y, accept_sparse, accept_large_sparse, dtype, order, copy, force_all_finite, ensure_2d, allow_nd, multi_output, ensure_min_samples, ensure_min_features, y_numeric, warn_on_dtype, estimator)\u001b[0m\n\u001b[1;32m    754\u001b[0m                     \u001b[0mensure_min_features\u001b[0m\u001b[0;34m=\u001b[0m\u001b[0mensure_min_features\u001b[0m\u001b[0;34m,\u001b[0m\u001b[0;34m\u001b[0m\u001b[0;34m\u001b[0m\u001b[0m\n\u001b[1;32m    755\u001b[0m                     \u001b[0mwarn_on_dtype\u001b[0m\u001b[0;34m=\u001b[0m\u001b[0mwarn_on_dtype\u001b[0m\u001b[0;34m,\u001b[0m\u001b[0;34m\u001b[0m\u001b[0;34m\u001b[0m\u001b[0m\n\u001b[0;32m--> 756\u001b[0;31m                     estimator=estimator)\n\u001b[0m\u001b[1;32m    757\u001b[0m     \u001b[0;32mif\u001b[0m \u001b[0mmulti_output\u001b[0m\u001b[0;34m:\u001b[0m\u001b[0;34m\u001b[0m\u001b[0;34m\u001b[0m\u001b[0m\n\u001b[1;32m    758\u001b[0m         y = check_array(y, 'csr', force_all_finite=True, ensure_2d=False,\n",
      "\u001b[0;32m/Volumes/ravi/anaconda3/lib/python3.7/site-packages/sklearn/utils/validation.py\u001b[0m in \u001b[0;36mcheck_array\u001b[0;34m(array, accept_sparse, accept_large_sparse, dtype, order, copy, force_all_finite, ensure_2d, allow_nd, ensure_min_samples, ensure_min_features, warn_on_dtype, estimator)\u001b[0m\n\u001b[1;32m    571\u001b[0m         \u001b[0;32mif\u001b[0m \u001b[0mforce_all_finite\u001b[0m\u001b[0;34m:\u001b[0m\u001b[0;34m\u001b[0m\u001b[0;34m\u001b[0m\u001b[0m\n\u001b[1;32m    572\u001b[0m             _assert_all_finite(array,\n\u001b[0;32m--> 573\u001b[0;31m                                allow_nan=force_all_finite == 'allow-nan')\n\u001b[0m\u001b[1;32m    574\u001b[0m \u001b[0;34m\u001b[0m\u001b[0m\n\u001b[1;32m    575\u001b[0m     \u001b[0mshape_repr\u001b[0m \u001b[0;34m=\u001b[0m \u001b[0m_shape_repr\u001b[0m\u001b[0;34m(\u001b[0m\u001b[0marray\u001b[0m\u001b[0;34m.\u001b[0m\u001b[0mshape\u001b[0m\u001b[0;34m)\u001b[0m\u001b[0;34m\u001b[0m\u001b[0;34m\u001b[0m\u001b[0m\n",
      "\u001b[0;32m/Volumes/ravi/anaconda3/lib/python3.7/site-packages/sklearn/utils/validation.py\u001b[0m in \u001b[0;36m_assert_all_finite\u001b[0;34m(X, allow_nan)\u001b[0m\n\u001b[1;32m     54\u001b[0m                 not allow_nan and not np.isfinite(X).all()):\n\u001b[1;32m     55\u001b[0m             \u001b[0mtype_err\u001b[0m \u001b[0;34m=\u001b[0m \u001b[0;34m'infinity'\u001b[0m \u001b[0;32mif\u001b[0m \u001b[0mallow_nan\u001b[0m \u001b[0;32melse\u001b[0m \u001b[0;34m'NaN, infinity'\u001b[0m\u001b[0;34m\u001b[0m\u001b[0;34m\u001b[0m\u001b[0m\n\u001b[0;32m---> 56\u001b[0;31m             \u001b[0;32mraise\u001b[0m \u001b[0mValueError\u001b[0m\u001b[0;34m(\u001b[0m\u001b[0mmsg_err\u001b[0m\u001b[0;34m.\u001b[0m\u001b[0mformat\u001b[0m\u001b[0;34m(\u001b[0m\u001b[0mtype_err\u001b[0m\u001b[0;34m,\u001b[0m \u001b[0mX\u001b[0m\u001b[0;34m.\u001b[0m\u001b[0mdtype\u001b[0m\u001b[0;34m)\u001b[0m\u001b[0;34m)\u001b[0m\u001b[0;34m\u001b[0m\u001b[0;34m\u001b[0m\u001b[0m\n\u001b[0m\u001b[1;32m     57\u001b[0m \u001b[0;34m\u001b[0m\u001b[0m\n\u001b[1;32m     58\u001b[0m \u001b[0;34m\u001b[0m\u001b[0m\n",
      "\u001b[0;31mValueError\u001b[0m: Input contains NaN, infinity or a value too large for dtype('float64')."
     ]
    }
   ],
   "source": [
    "ss = StandardScaler()\n",
    "Xs = ss.fit_transform(X)\n",
    "lr = LogisticRegressionCV(penalty = 'l2', cv = 5, Cs = 10)\n",
    "\n",
    "# Fit the model with our target and features\n",
    "lr.fit(Xs, y)\n",
    "\n",
    "for metric in metrics:\n",
    "    scores = cross_val_score(lr, Xs, y, scoring = metric, cv = 5)\n",
    "    print(metric, scores.mean())"
   ]
  },
  {
   "cell_type": "code",
   "execution_count": 280,
   "metadata": {},
   "outputs": [
    {
     "ename": "NotFittedError",
     "evalue": "This LogisticRegressionCV instance is not fitted yet",
     "output_type": "error",
     "traceback": [
      "\u001b[0;31m---------------------------------------------------------------------------\u001b[0m",
      "\u001b[0;31mNotFittedError\u001b[0m                            Traceback (most recent call last)",
      "\u001b[0;32m<ipython-input-280-c6b89dd67066>\u001b[0m in \u001b[0;36m<module>\u001b[0;34m\u001b[0m\n\u001b[1;32m      1\u001b[0m \u001b[0;31m# Plot confusion matrix\u001b[0m\u001b[0;34m\u001b[0m\u001b[0;34m\u001b[0m\u001b[0;34m\u001b[0m\u001b[0m\n\u001b[1;32m      2\u001b[0m \u001b[0;34m\u001b[0m\u001b[0m\n\u001b[0;32m----> 3\u001b[0;31m \u001b[0mcnf_matrix\u001b[0m \u001b[0;34m=\u001b[0m \u001b[0mconfusion_matrix\u001b[0m\u001b[0;34m(\u001b[0m\u001b[0my\u001b[0m\u001b[0;34m,\u001b[0m \u001b[0mlr\u001b[0m\u001b[0;34m.\u001b[0m\u001b[0mpredict\u001b[0m\u001b[0;34m(\u001b[0m\u001b[0mXs\u001b[0m\u001b[0;34m)\u001b[0m\u001b[0;34m)\u001b[0m\u001b[0;34m\u001b[0m\u001b[0;34m\u001b[0m\u001b[0m\n\u001b[0m\u001b[1;32m      4\u001b[0m \u001b[0mplot_confusion_matrix\u001b[0m\u001b[0;34m(\u001b[0m\u001b[0mcnf_matrix\u001b[0m\u001b[0;34m,\u001b[0m \u001b[0mclasses\u001b[0m\u001b[0;34m=\u001b[0m \u001b[0;34m[\u001b[0m\u001b[0;34m'Low'\u001b[0m\u001b[0;34m,\u001b[0m \u001b[0;34m'High'\u001b[0m\u001b[0;34m]\u001b[0m\u001b[0;34m)\u001b[0m\u001b[0;34m\u001b[0m\u001b[0;34m\u001b[0m\u001b[0m\n",
      "\u001b[0;32m/Volumes/ravi/anaconda3/lib/python3.7/site-packages/sklearn/linear_model/base.py\u001b[0m in \u001b[0;36mpredict\u001b[0;34m(self, X)\u001b[0m\n\u001b[1;32m    279\u001b[0m             \u001b[0mPredicted\u001b[0m \u001b[0;32mclass\u001b[0m \u001b[0mlabel\u001b[0m \u001b[0mper\u001b[0m \u001b[0msample\u001b[0m\u001b[0;34m.\u001b[0m\u001b[0;34m\u001b[0m\u001b[0;34m\u001b[0m\u001b[0m\n\u001b[1;32m    280\u001b[0m         \"\"\"\n\u001b[0;32m--> 281\u001b[0;31m         \u001b[0mscores\u001b[0m \u001b[0;34m=\u001b[0m \u001b[0mself\u001b[0m\u001b[0;34m.\u001b[0m\u001b[0mdecision_function\u001b[0m\u001b[0;34m(\u001b[0m\u001b[0mX\u001b[0m\u001b[0;34m)\u001b[0m\u001b[0;34m\u001b[0m\u001b[0;34m\u001b[0m\u001b[0m\n\u001b[0m\u001b[1;32m    282\u001b[0m         \u001b[0;32mif\u001b[0m \u001b[0mlen\u001b[0m\u001b[0;34m(\u001b[0m\u001b[0mscores\u001b[0m\u001b[0;34m.\u001b[0m\u001b[0mshape\u001b[0m\u001b[0;34m)\u001b[0m \u001b[0;34m==\u001b[0m \u001b[0;36m1\u001b[0m\u001b[0;34m:\u001b[0m\u001b[0;34m\u001b[0m\u001b[0;34m\u001b[0m\u001b[0m\n\u001b[1;32m    283\u001b[0m             \u001b[0mindices\u001b[0m \u001b[0;34m=\u001b[0m \u001b[0;34m(\u001b[0m\u001b[0mscores\u001b[0m \u001b[0;34m>\u001b[0m \u001b[0;36m0\u001b[0m\u001b[0;34m)\u001b[0m\u001b[0;34m.\u001b[0m\u001b[0mastype\u001b[0m\u001b[0;34m(\u001b[0m\u001b[0mnp\u001b[0m\u001b[0;34m.\u001b[0m\u001b[0mint\u001b[0m\u001b[0;34m)\u001b[0m\u001b[0;34m\u001b[0m\u001b[0;34m\u001b[0m\u001b[0m\n",
      "\u001b[0;32m/Volumes/ravi/anaconda3/lib/python3.7/site-packages/sklearn/linear_model/base.py\u001b[0m in \u001b[0;36mdecision_function\u001b[0;34m(self, X)\u001b[0m\n\u001b[1;32m    253\u001b[0m         \u001b[0;32mif\u001b[0m \u001b[0;32mnot\u001b[0m \u001b[0mhasattr\u001b[0m\u001b[0;34m(\u001b[0m\u001b[0mself\u001b[0m\u001b[0;34m,\u001b[0m \u001b[0;34m'coef_'\u001b[0m\u001b[0;34m)\u001b[0m \u001b[0;32mor\u001b[0m \u001b[0mself\u001b[0m\u001b[0;34m.\u001b[0m\u001b[0mcoef_\u001b[0m \u001b[0;32mis\u001b[0m \u001b[0;32mNone\u001b[0m\u001b[0;34m:\u001b[0m\u001b[0;34m\u001b[0m\u001b[0;34m\u001b[0m\u001b[0m\n\u001b[1;32m    254\u001b[0m             raise NotFittedError(\"This %(name)s instance is not fitted \"\n\u001b[0;32m--> 255\u001b[0;31m                                  \"yet\" % {'name': type(self).__name__})\n\u001b[0m\u001b[1;32m    256\u001b[0m \u001b[0;34m\u001b[0m\u001b[0m\n\u001b[1;32m    257\u001b[0m         \u001b[0mX\u001b[0m \u001b[0;34m=\u001b[0m \u001b[0mcheck_array\u001b[0m\u001b[0;34m(\u001b[0m\u001b[0mX\u001b[0m\u001b[0;34m,\u001b[0m \u001b[0maccept_sparse\u001b[0m\u001b[0;34m=\u001b[0m\u001b[0;34m'csr'\u001b[0m\u001b[0;34m)\u001b[0m\u001b[0;34m\u001b[0m\u001b[0;34m\u001b[0m\u001b[0m\n",
      "\u001b[0;31mNotFittedError\u001b[0m: This LogisticRegressionCV instance is not fitted yet"
     ]
    }
   ],
   "source": [
    "# Plot confusion matrix\n",
    "\n",
    "cnf_matrix = confusion_matrix(y, lr.predict(Xs))\n",
    "plot_confusion_matrix(cnf_matrix, classes= ['Low', 'High'])"
   ]
  },
  {
   "cell_type": "markdown",
   "metadata": {},
   "source": [
    "## Summary"
   ]
  },
  {
   "cell_type": "markdown",
   "metadata": {},
   "source": [
    "### Introduction\n",
    "The aim of the project was to collect salary data from Indeed.com and look for relationships between features in job listings and the salaries for those jobs. The task was aimed at predicting Data Science salaries, so the search was focused in this field. The search was also targeted at the cities for Melbourne and Sydney.\n",
    "\n",
    "The result of the investigation identified features in the job listing that were associated with highed salaries, these features related to job titles, location. These includes the cities of Melbourne and Sydney.\n",
    "\n",
    "### Method\n",
    "Using Beautiful Soup, 5729 job listings were scraped from 2 cities on Indeed.com.au Five functions were used to extract - location, company, title, salary and summary. These were cleaned and listings without salaries were deleted as most listings DID NOT come with salary information, this left 151 job listings remaining to perform modelling on.\n",
    "\n",
    "Although linear regression could have been used the task was converted into classification and Logistic Regression used instead. The salary information was converted into a binary high/low feature with all salaries above the median equalling 1.\n",
    "\n",
    "Modelling of the different features (job titles, location ) was performed to identify the most relevant features for predicting salary.\n",
    "\n",
    "### Results\n",
    "logistic regression  model were run on the scraped features from Indeed.com.au to predict the key features that impact recieving a high salary the most.\n",
    "\n",
    "It was identified that the following features contributed the most - \n",
    "\n",
    "\n",
    "**Job title**\n",
    "- Senior\n",
    "- Machine learniing engineer\n",
    "- leader\n",
    "\n",
    "**City**\n",
    "- Sydney"
   ]
  },
  {
   "cell_type": "code",
   "execution_count": null,
   "metadata": {},
   "outputs": [],
   "source": []
  },
  {
   "cell_type": "code",
   "execution_count": null,
   "metadata": {},
   "outputs": [],
   "source": []
  },
  {
   "cell_type": "code",
   "execution_count": null,
   "metadata": {},
   "outputs": [],
   "source": []
  },
  {
   "cell_type": "code",
   "execution_count": null,
   "metadata": {},
   "outputs": [],
   "source": []
  },
  {
   "cell_type": "code",
   "execution_count": null,
   "metadata": {},
   "outputs": [],
   "source": []
  }
 ],
 "metadata": {
  "kernelspec": {
   "display_name": "Python 3",
   "language": "python",
   "name": "python3"
  },
  "language_info": {
   "codemirror_mode": {
    "name": "ipython",
    "version": 3
   },
   "file_extension": ".py",
   "mimetype": "text/x-python",
   "name": "python",
   "nbconvert_exporter": "python",
   "pygments_lexer": "ipython3",
   "version": "3.7.1"
  }
 },
 "nbformat": 4,
 "nbformat_minor": 2
}
